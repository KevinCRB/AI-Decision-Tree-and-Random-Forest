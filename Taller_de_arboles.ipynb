{
  "nbformat": 4,
  "nbformat_minor": 0,
  "metadata": {
    "colab": {
      "provenance": []
    },
    "kernelspec": {
      "name": "python3",
      "display_name": "Python 3"
    },
    "language_info": {
      "name": "python"
    }
  },
  "cells": [
    {
      "cell_type": "code",
      "execution_count": null,
      "metadata": {
        "colab": {
          "base_uri": "https://localhost:8080/"
        },
        "id": "6gehkx01pEt5",
        "outputId": "7d864e54-bca3-4acc-c66c-0a8c47c228e9"
      },
      "outputs": [
        {
          "output_type": "stream",
          "name": "stdout",
          "text": [
            "Reading package lists... Done\n",
            "Building dependency tree... Done\n",
            "Reading state information... Done\n",
            "graphviz is already the newest version (2.42.2-6).\n",
            "0 upgraded, 0 newly installed, 0 to remove and 18 not upgraded.\n",
            "Requirement already satisfied: graphviz in /usr/local/lib/python3.10/dist-packages (0.20.1)\n",
            "Requirement already satisfied: pydot in /usr/local/lib/python3.10/dist-packages (1.4.2)\n",
            "Requirement already satisfied: pyparsing>=2.1.4 in /usr/local/lib/python3.10/dist-packages (from pydot) (3.1.1)\n"
          ]
        }
      ],
      "source": [
        "# https://pypi.python.org/pypi/pydot-\n",
        "!apt install graphviz\n",
        "!pip install graphviz\n",
        "!pip install pydot"
      ]
    },
    {
      "cell_type": "code",
      "source": [
        "%matplotlib inline\n",
        "import matplotlib.pyplot as plt\n",
        "import numpy as np\n",
        "import pylab as pl\n",
        "from sklearn import datasets\n",
        "from sklearn.datasets import make_moons\n",
        "import graphviz\n",
        "from sklearn.tree import export_graphviz\n",
        "import pydot\n",
        "from time import time\n",
        "from matplotlib.colors import Normalize\n",
        "\n",
        "\n",
        "# Función para visualizar un conjunto de datos en 2D\n",
        "def plot_data(X, y):\n",
        "    y_unique = np.unique(y)\n",
        "    colors = pl.cm.rainbow(np.linspace(0.0, 1.0, y_unique.size))\n",
        "    for this_y, color in zip(y_unique, colors):\n",
        "        this_X = X[y == this_y]\n",
        "        pl.scatter(this_X[:, 0], this_X[:, 1],  c=color,\n",
        "                    alpha=0.5, edgecolor='k',\n",
        "                    label=\"Class %s\" % this_y)\n",
        "    pl.legend(loc=\"best\")\n",
        "    pl.title(\"Data\")\n",
        "\n",
        "# Función para visualizar de la superficie de decisión de un clasificador\n",
        "def plot_decision_region(X, pred_fun):\n",
        "    print(X.shape)\n",
        "    min_x = np.min(X[:, 0])\n",
        "    max_x = np.max(X[:, 0])\n",
        "    min_y = np.min(X[:, 1])\n",
        "    max_y = np.max(X[:, 1])\n",
        "    min_x = min_x - (max_x - min_x) * 0.05\n",
        "    max_x = max_x + (max_x - min_x) * 0.05\n",
        "    min_y = min_y - (max_y - min_y) * 0.05\n",
        "    max_y = max_y + (max_y - min_y) * 0.05\n",
        "    x_vals = np.linspace(min_x, max_x, 100)\n",
        "    y_vals = np.linspace(min_y, max_y, 100)\n",
        "    XX, YY = np.meshgrid(x_vals, y_vals)\n",
        "    grid_r, grid_c = XX.shape\n",
        "    ZZ = np.zeros((grid_r, grid_c))\n",
        "    for i in range(grid_r):\n",
        "        for j in range(grid_c):\n",
        "            ZZ[i, j] = pred_fun(XX[i, j], YY[i, j])\n",
        "    pl.contourf(XX, YY, ZZ, 100, cmap = pl.cm.coolwarm, vmin= -1, vmax=2)\n",
        "    pl.colorbar()\n",
        "    pl.xlabel(\"x\")\n",
        "    pl.ylabel(\"y\")\n",
        "\n",
        "def gen_pred_fun(clf):\n",
        "    def pred_fun(x1, x2):\n",
        "        x = np.array([[x1, x2]])\n",
        "        return clf.predict(x)[0]\n",
        "    return pred_fun\n",
        "\n",
        "class MidpointNormalize(Normalize):\n",
        "\n",
        "    def __init__(self, vmin=None, vmax=None, midpoint=None, clip=False):\n",
        "        self.midpoint = midpoint\n",
        "        Normalize.__init__(self, vmin, vmax, clip)\n",
        "\n",
        "    def __call__(self, value, clip=None):\n",
        "        x, y = [self.vmin, self.midpoint, self.vmax], [0, 0.5, 1]\n",
        "        return np.ma.masked_array(np.interp(value, x, y))\n",
        "\n",
        "def gen_pred_fun(clf):\n",
        "    def pred_fun(x1, x2):\n",
        "        x = np.array([[x1, x2]])\n",
        "        return clf.predict(x)[0]\n",
        "    return pred_fun\n",
        "\n",
        "def plot_labels(n_folds, n_classes, list_labels):\n",
        "    ind = np.arange(n_folds)\n",
        "    width = 0.15\n",
        "\n",
        "    countings = []\n",
        "    for labels in list_labels:\n",
        "        labels = np.array(labels)\n",
        "        countings.append([np.count_nonzero(labels == x) for x in range(n_classes)])\n",
        "\n",
        "    class_bars = []\n",
        "    for cls in range(n_classes):\n",
        "        class_bars.append([l[cls] for l in countings])\n",
        "\n",
        "    fig, ax = pl.subplots()\n",
        "    i = 0\n",
        "    for class_bar in class_bars:\n",
        "        ax.bar(ind + width*i, class_bar, width, label='Clase '+str(i))\n",
        "        i += 1\n",
        "\n",
        "    ax.set_xticks(ind + 2*width / 3)\n",
        "    ax.set_xticklabels(['Pliegue {}'.format(k) for k in range(n_folds)])\n",
        "    pl.legend(loc=\"best\")\n",
        "    pl.title(\"Etiquetas\")"
      ],
      "metadata": {
        "id": "5Y5TNTRCpVki"
      },
      "execution_count": null,
      "outputs": []
    },
    {
      "cell_type": "code",
      "source": [
        "from google.colab import drive\n",
        "drive.mount('/content/drive')\n",
        "import pandas as pd\n",
        "\n",
        "file_path = 'nba.csv'\n",
        "df = pd.read_csv(file_path)\n",
        "\n",
        "df\n"
      ],
      "metadata": {
        "id": "4h5Ch712wiZP",
        "colab": {
          "base_uri": "https://localhost:8080/",
          "height": 441
        },
        "outputId": "5e647d61-19d1-4bda-d834-87a9ad02d37b"
      },
      "execution_count": null,
      "outputs": [
        {
          "output_type": "stream",
          "name": "stdout",
          "text": [
            "Drive already mounted at /content/drive; to attempt to forcibly remount, call drive.mount(\"/content/drive\", force_remount=True).\n"
          ]
        },
        {
          "output_type": "execute_result",
          "data": {
            "text/plain": [
              "        G    GS   MPG  FG%  3p%  FT%  OFF  DEF  RPG  APG  SPG  BPG   TO   PF  \\\n",
              "0     362   223  24.4  466  405  800  0.6  2.1  2.7  1.5  0.5  0.3  0.8  2.0   \n",
              "1      19     0  11.9  273  298  970  0.1  1.1  1.2  1.2  0.4  0.0  1.2  1.4   \n",
              "2    1148  1140  36.9  452  400  894  1.0  3.2  4.2  3.6  1.2  0.2  2.2  2.3   \n",
              "3     466   170  19.8  482  284  745  0.9  1.9  2.8  1.3  1.2  0.4  1.4  2.2   \n",
              "4      38     1   9.5  381  292  743  0.3  0.9  1.2  0.3  0.3  0.1  0.5  1.1   \n",
              "..    ...   ...   ...  ...  ...  ...  ...  ...  ...  ...  ...  ...  ...  ...   \n",
              "303    14     0  12.0  414    0  478  0.9  1.9  2.8  0.2  0.5  0.4  1.1  1.6   \n",
              "304    19     0   5.8  444    0  417  0.8  1.2  2.1  0.0  0.2  0.8  0.3  0.7   \n",
              "305    43     5  14.7  507    0  652  1.5  2.1  3.6  0.3  0.5  0.4  0.5  1.4   \n",
              "306   137    29  14.4  511    0  624  1.3  2.1  3.4  0.3  0.3  1.2  0.9  2.4   \n",
              "307   361   104  15.5  462  222  740  1.5  2.9  4.3  0.5  0.5  0.4  0.8  2.0   \n",
              "\n",
              "      PPG  Class  \n",
              "0     8.8      1  \n",
              "1     4.6      1  \n",
              "2    20.0      1  \n",
              "3     7.8      1  \n",
              "4     3.1      1  \n",
              "..    ...    ...  \n",
              "303   2.5      2  \n",
              "304   1.5      2  \n",
              "305   4.6      2  \n",
              "306   4.2      2  \n",
              "307   4.5      2  \n",
              "\n",
              "[308 rows x 16 columns]"
            ],
            "text/html": [
              "\n",
              "  <div id=\"df-cb47f9ad-7924-4e27-b9fc-e4f6a5c6c7f7\" class=\"colab-df-container\">\n",
              "    <div>\n",
              "<style scoped>\n",
              "    .dataframe tbody tr th:only-of-type {\n",
              "        vertical-align: middle;\n",
              "    }\n",
              "\n",
              "    .dataframe tbody tr th {\n",
              "        vertical-align: top;\n",
              "    }\n",
              "\n",
              "    .dataframe thead th {\n",
              "        text-align: right;\n",
              "    }\n",
              "</style>\n",
              "<table border=\"1\" class=\"dataframe\">\n",
              "  <thead>\n",
              "    <tr style=\"text-align: right;\">\n",
              "      <th></th>\n",
              "      <th>G</th>\n",
              "      <th>GS</th>\n",
              "      <th>MPG</th>\n",
              "      <th>FG%</th>\n",
              "      <th>3p%</th>\n",
              "      <th>FT%</th>\n",
              "      <th>OFF</th>\n",
              "      <th>DEF</th>\n",
              "      <th>RPG</th>\n",
              "      <th>APG</th>\n",
              "      <th>SPG</th>\n",
              "      <th>BPG</th>\n",
              "      <th>TO</th>\n",
              "      <th>PF</th>\n",
              "      <th>PPG</th>\n",
              "      <th>Class</th>\n",
              "    </tr>\n",
              "  </thead>\n",
              "  <tbody>\n",
              "    <tr>\n",
              "      <th>0</th>\n",
              "      <td>362</td>\n",
              "      <td>223</td>\n",
              "      <td>24.4</td>\n",
              "      <td>466</td>\n",
              "      <td>405</td>\n",
              "      <td>800</td>\n",
              "      <td>0.6</td>\n",
              "      <td>2.1</td>\n",
              "      <td>2.7</td>\n",
              "      <td>1.5</td>\n",
              "      <td>0.5</td>\n",
              "      <td>0.3</td>\n",
              "      <td>0.8</td>\n",
              "      <td>2.0</td>\n",
              "      <td>8.8</td>\n",
              "      <td>1</td>\n",
              "    </tr>\n",
              "    <tr>\n",
              "      <th>1</th>\n",
              "      <td>19</td>\n",
              "      <td>0</td>\n",
              "      <td>11.9</td>\n",
              "      <td>273</td>\n",
              "      <td>298</td>\n",
              "      <td>970</td>\n",
              "      <td>0.1</td>\n",
              "      <td>1.1</td>\n",
              "      <td>1.2</td>\n",
              "      <td>1.2</td>\n",
              "      <td>0.4</td>\n",
              "      <td>0.0</td>\n",
              "      <td>1.2</td>\n",
              "      <td>1.4</td>\n",
              "      <td>4.6</td>\n",
              "      <td>1</td>\n",
              "    </tr>\n",
              "    <tr>\n",
              "      <th>2</th>\n",
              "      <td>1148</td>\n",
              "      <td>1140</td>\n",
              "      <td>36.9</td>\n",
              "      <td>452</td>\n",
              "      <td>400</td>\n",
              "      <td>894</td>\n",
              "      <td>1.0</td>\n",
              "      <td>3.2</td>\n",
              "      <td>4.2</td>\n",
              "      <td>3.6</td>\n",
              "      <td>1.2</td>\n",
              "      <td>0.2</td>\n",
              "      <td>2.2</td>\n",
              "      <td>2.3</td>\n",
              "      <td>20.0</td>\n",
              "      <td>1</td>\n",
              "    </tr>\n",
              "    <tr>\n",
              "      <th>3</th>\n",
              "      <td>466</td>\n",
              "      <td>170</td>\n",
              "      <td>19.8</td>\n",
              "      <td>482</td>\n",
              "      <td>284</td>\n",
              "      <td>745</td>\n",
              "      <td>0.9</td>\n",
              "      <td>1.9</td>\n",
              "      <td>2.8</td>\n",
              "      <td>1.3</td>\n",
              "      <td>1.2</td>\n",
              "      <td>0.4</td>\n",
              "      <td>1.4</td>\n",
              "      <td>2.2</td>\n",
              "      <td>7.8</td>\n",
              "      <td>1</td>\n",
              "    </tr>\n",
              "    <tr>\n",
              "      <th>4</th>\n",
              "      <td>38</td>\n",
              "      <td>1</td>\n",
              "      <td>9.5</td>\n",
              "      <td>381</td>\n",
              "      <td>292</td>\n",
              "      <td>743</td>\n",
              "      <td>0.3</td>\n",
              "      <td>0.9</td>\n",
              "      <td>1.2</td>\n",
              "      <td>0.3</td>\n",
              "      <td>0.3</td>\n",
              "      <td>0.1</td>\n",
              "      <td>0.5</td>\n",
              "      <td>1.1</td>\n",
              "      <td>3.1</td>\n",
              "      <td>1</td>\n",
              "    </tr>\n",
              "    <tr>\n",
              "      <th>...</th>\n",
              "      <td>...</td>\n",
              "      <td>...</td>\n",
              "      <td>...</td>\n",
              "      <td>...</td>\n",
              "      <td>...</td>\n",
              "      <td>...</td>\n",
              "      <td>...</td>\n",
              "      <td>...</td>\n",
              "      <td>...</td>\n",
              "      <td>...</td>\n",
              "      <td>...</td>\n",
              "      <td>...</td>\n",
              "      <td>...</td>\n",
              "      <td>...</td>\n",
              "      <td>...</td>\n",
              "      <td>...</td>\n",
              "    </tr>\n",
              "    <tr>\n",
              "      <th>303</th>\n",
              "      <td>14</td>\n",
              "      <td>0</td>\n",
              "      <td>12.0</td>\n",
              "      <td>414</td>\n",
              "      <td>0</td>\n",
              "      <td>478</td>\n",
              "      <td>0.9</td>\n",
              "      <td>1.9</td>\n",
              "      <td>2.8</td>\n",
              "      <td>0.2</td>\n",
              "      <td>0.5</td>\n",
              "      <td>0.4</td>\n",
              "      <td>1.1</td>\n",
              "      <td>1.6</td>\n",
              "      <td>2.5</td>\n",
              "      <td>2</td>\n",
              "    </tr>\n",
              "    <tr>\n",
              "      <th>304</th>\n",
              "      <td>19</td>\n",
              "      <td>0</td>\n",
              "      <td>5.8</td>\n",
              "      <td>444</td>\n",
              "      <td>0</td>\n",
              "      <td>417</td>\n",
              "      <td>0.8</td>\n",
              "      <td>1.2</td>\n",
              "      <td>2.1</td>\n",
              "      <td>0.0</td>\n",
              "      <td>0.2</td>\n",
              "      <td>0.8</td>\n",
              "      <td>0.3</td>\n",
              "      <td>0.7</td>\n",
              "      <td>1.5</td>\n",
              "      <td>2</td>\n",
              "    </tr>\n",
              "    <tr>\n",
              "      <th>305</th>\n",
              "      <td>43</td>\n",
              "      <td>5</td>\n",
              "      <td>14.7</td>\n",
              "      <td>507</td>\n",
              "      <td>0</td>\n",
              "      <td>652</td>\n",
              "      <td>1.5</td>\n",
              "      <td>2.1</td>\n",
              "      <td>3.6</td>\n",
              "      <td>0.3</td>\n",
              "      <td>0.5</td>\n",
              "      <td>0.4</td>\n",
              "      <td>0.5</td>\n",
              "      <td>1.4</td>\n",
              "      <td>4.6</td>\n",
              "      <td>2</td>\n",
              "    </tr>\n",
              "    <tr>\n",
              "      <th>306</th>\n",
              "      <td>137</td>\n",
              "      <td>29</td>\n",
              "      <td>14.4</td>\n",
              "      <td>511</td>\n",
              "      <td>0</td>\n",
              "      <td>624</td>\n",
              "      <td>1.3</td>\n",
              "      <td>2.1</td>\n",
              "      <td>3.4</td>\n",
              "      <td>0.3</td>\n",
              "      <td>0.3</td>\n",
              "      <td>1.2</td>\n",
              "      <td>0.9</td>\n",
              "      <td>2.4</td>\n",
              "      <td>4.2</td>\n",
              "      <td>2</td>\n",
              "    </tr>\n",
              "    <tr>\n",
              "      <th>307</th>\n",
              "      <td>361</td>\n",
              "      <td>104</td>\n",
              "      <td>15.5</td>\n",
              "      <td>462</td>\n",
              "      <td>222</td>\n",
              "      <td>740</td>\n",
              "      <td>1.5</td>\n",
              "      <td>2.9</td>\n",
              "      <td>4.3</td>\n",
              "      <td>0.5</td>\n",
              "      <td>0.5</td>\n",
              "      <td>0.4</td>\n",
              "      <td>0.8</td>\n",
              "      <td>2.0</td>\n",
              "      <td>4.5</td>\n",
              "      <td>2</td>\n",
              "    </tr>\n",
              "  </tbody>\n",
              "</table>\n",
              "<p>308 rows × 16 columns</p>\n",
              "</div>\n",
              "    <div class=\"colab-df-buttons\">\n",
              "\n",
              "  <div class=\"colab-df-container\">\n",
              "    <button class=\"colab-df-convert\" onclick=\"convertToInteractive('df-cb47f9ad-7924-4e27-b9fc-e4f6a5c6c7f7')\"\n",
              "            title=\"Convert this dataframe to an interactive table.\"\n",
              "            style=\"display:none;\">\n",
              "\n",
              "  <svg xmlns=\"http://www.w3.org/2000/svg\" height=\"24px\" viewBox=\"0 -960 960 960\">\n",
              "    <path d=\"M120-120v-720h720v720H120Zm60-500h600v-160H180v160Zm220 220h160v-160H400v160Zm0 220h160v-160H400v160ZM180-400h160v-160H180v160Zm440 0h160v-160H620v160ZM180-180h160v-160H180v160Zm440 0h160v-160H620v160Z\"/>\n",
              "  </svg>\n",
              "    </button>\n",
              "\n",
              "  <style>\n",
              "    .colab-df-container {\n",
              "      display:flex;\n",
              "      gap: 12px;\n",
              "    }\n",
              "\n",
              "    .colab-df-convert {\n",
              "      background-color: #E8F0FE;\n",
              "      border: none;\n",
              "      border-radius: 50%;\n",
              "      cursor: pointer;\n",
              "      display: none;\n",
              "      fill: #1967D2;\n",
              "      height: 32px;\n",
              "      padding: 0 0 0 0;\n",
              "      width: 32px;\n",
              "    }\n",
              "\n",
              "    .colab-df-convert:hover {\n",
              "      background-color: #E2EBFA;\n",
              "      box-shadow: 0px 1px 2px rgba(60, 64, 67, 0.3), 0px 1px 3px 1px rgba(60, 64, 67, 0.15);\n",
              "      fill: #174EA6;\n",
              "    }\n",
              "\n",
              "    .colab-df-buttons div {\n",
              "      margin-bottom: 4px;\n",
              "    }\n",
              "\n",
              "    [theme=dark] .colab-df-convert {\n",
              "      background-color: #3B4455;\n",
              "      fill: #D2E3FC;\n",
              "    }\n",
              "\n",
              "    [theme=dark] .colab-df-convert:hover {\n",
              "      background-color: #434B5C;\n",
              "      box-shadow: 0px 1px 3px 1px rgba(0, 0, 0, 0.15);\n",
              "      filter: drop-shadow(0px 1px 2px rgba(0, 0, 0, 0.3));\n",
              "      fill: #FFFFFF;\n",
              "    }\n",
              "  </style>\n",
              "\n",
              "    <script>\n",
              "      const buttonEl =\n",
              "        document.querySelector('#df-cb47f9ad-7924-4e27-b9fc-e4f6a5c6c7f7 button.colab-df-convert');\n",
              "      buttonEl.style.display =\n",
              "        google.colab.kernel.accessAllowed ? 'block' : 'none';\n",
              "\n",
              "      async function convertToInteractive(key) {\n",
              "        const element = document.querySelector('#df-cb47f9ad-7924-4e27-b9fc-e4f6a5c6c7f7');\n",
              "        const dataTable =\n",
              "          await google.colab.kernel.invokeFunction('convertToInteractive',\n",
              "                                                    [key], {});\n",
              "        if (!dataTable) return;\n",
              "\n",
              "        const docLinkHtml = 'Like what you see? Visit the ' +\n",
              "          '<a target=\"_blank\" href=https://colab.research.google.com/notebooks/data_table.ipynb>data table notebook</a>'\n",
              "          + ' to learn more about interactive tables.';\n",
              "        element.innerHTML = '';\n",
              "        dataTable['output_type'] = 'display_data';\n",
              "        await google.colab.output.renderOutput(dataTable, element);\n",
              "        const docLink = document.createElement('div');\n",
              "        docLink.innerHTML = docLinkHtml;\n",
              "        element.appendChild(docLink);\n",
              "      }\n",
              "    </script>\n",
              "  </div>\n",
              "\n",
              "\n",
              "<div id=\"df-d643778b-b6f5-47c8-90ce-fb8ee527b6a5\">\n",
              "  <button class=\"colab-df-quickchart\" onclick=\"quickchart('df-d643778b-b6f5-47c8-90ce-fb8ee527b6a5')\"\n",
              "            title=\"Suggest charts.\"\n",
              "            style=\"display:none;\">\n",
              "\n",
              "<svg xmlns=\"http://www.w3.org/2000/svg\" height=\"24px\"viewBox=\"0 0 24 24\"\n",
              "     width=\"24px\">\n",
              "    <g>\n",
              "        <path d=\"M19 3H5c-1.1 0-2 .9-2 2v14c0 1.1.9 2 2 2h14c1.1 0 2-.9 2-2V5c0-1.1-.9-2-2-2zM9 17H7v-7h2v7zm4 0h-2V7h2v10zm4 0h-2v-4h2v4z\"/>\n",
              "    </g>\n",
              "</svg>\n",
              "  </button>\n",
              "\n",
              "<style>\n",
              "  .colab-df-quickchart {\n",
              "      --bg-color: #E8F0FE;\n",
              "      --fill-color: #1967D2;\n",
              "      --hover-bg-color: #E2EBFA;\n",
              "      --hover-fill-color: #174EA6;\n",
              "      --disabled-fill-color: #AAA;\n",
              "      --disabled-bg-color: #DDD;\n",
              "  }\n",
              "\n",
              "  [theme=dark] .colab-df-quickchart {\n",
              "      --bg-color: #3B4455;\n",
              "      --fill-color: #D2E3FC;\n",
              "      --hover-bg-color: #434B5C;\n",
              "      --hover-fill-color: #FFFFFF;\n",
              "      --disabled-bg-color: #3B4455;\n",
              "      --disabled-fill-color: #666;\n",
              "  }\n",
              "\n",
              "  .colab-df-quickchart {\n",
              "    background-color: var(--bg-color);\n",
              "    border: none;\n",
              "    border-radius: 50%;\n",
              "    cursor: pointer;\n",
              "    display: none;\n",
              "    fill: var(--fill-color);\n",
              "    height: 32px;\n",
              "    padding: 0;\n",
              "    width: 32px;\n",
              "  }\n",
              "\n",
              "  .colab-df-quickchart:hover {\n",
              "    background-color: var(--hover-bg-color);\n",
              "    box-shadow: 0 1px 2px rgba(60, 64, 67, 0.3), 0 1px 3px 1px rgba(60, 64, 67, 0.15);\n",
              "    fill: var(--button-hover-fill-color);\n",
              "  }\n",
              "\n",
              "  .colab-df-quickchart-complete:disabled,\n",
              "  .colab-df-quickchart-complete:disabled:hover {\n",
              "    background-color: var(--disabled-bg-color);\n",
              "    fill: var(--disabled-fill-color);\n",
              "    box-shadow: none;\n",
              "  }\n",
              "\n",
              "  .colab-df-spinner {\n",
              "    border: 2px solid var(--fill-color);\n",
              "    border-color: transparent;\n",
              "    border-bottom-color: var(--fill-color);\n",
              "    animation:\n",
              "      spin 1s steps(1) infinite;\n",
              "  }\n",
              "\n",
              "  @keyframes spin {\n",
              "    0% {\n",
              "      border-color: transparent;\n",
              "      border-bottom-color: var(--fill-color);\n",
              "      border-left-color: var(--fill-color);\n",
              "    }\n",
              "    20% {\n",
              "      border-color: transparent;\n",
              "      border-left-color: var(--fill-color);\n",
              "      border-top-color: var(--fill-color);\n",
              "    }\n",
              "    30% {\n",
              "      border-color: transparent;\n",
              "      border-left-color: var(--fill-color);\n",
              "      border-top-color: var(--fill-color);\n",
              "      border-right-color: var(--fill-color);\n",
              "    }\n",
              "    40% {\n",
              "      border-color: transparent;\n",
              "      border-right-color: var(--fill-color);\n",
              "      border-top-color: var(--fill-color);\n",
              "    }\n",
              "    60% {\n",
              "      border-color: transparent;\n",
              "      border-right-color: var(--fill-color);\n",
              "    }\n",
              "    80% {\n",
              "      border-color: transparent;\n",
              "      border-right-color: var(--fill-color);\n",
              "      border-bottom-color: var(--fill-color);\n",
              "    }\n",
              "    90% {\n",
              "      border-color: transparent;\n",
              "      border-bottom-color: var(--fill-color);\n",
              "    }\n",
              "  }\n",
              "</style>\n",
              "\n",
              "  <script>\n",
              "    async function quickchart(key) {\n",
              "      const quickchartButtonEl =\n",
              "        document.querySelector('#' + key + ' button');\n",
              "      quickchartButtonEl.disabled = true;  // To prevent multiple clicks.\n",
              "      quickchartButtonEl.classList.add('colab-df-spinner');\n",
              "      try {\n",
              "        const charts = await google.colab.kernel.invokeFunction(\n",
              "            'suggestCharts', [key], {});\n",
              "      } catch (error) {\n",
              "        console.error('Error during call to suggestCharts:', error);\n",
              "      }\n",
              "      quickchartButtonEl.classList.remove('colab-df-spinner');\n",
              "      quickchartButtonEl.classList.add('colab-df-quickchart-complete');\n",
              "    }\n",
              "    (() => {\n",
              "      let quickchartButtonEl =\n",
              "        document.querySelector('#df-d643778b-b6f5-47c8-90ce-fb8ee527b6a5 button');\n",
              "      quickchartButtonEl.style.display =\n",
              "        google.colab.kernel.accessAllowed ? 'block' : 'none';\n",
              "    })();\n",
              "  </script>\n",
              "</div>\n",
              "    </div>\n",
              "  </div>\n"
            ]
          },
          "metadata": {},
          "execution_count": 8
        }
      ]
    },
    {
      "cell_type": "markdown",
      "source": [
        "### Data Set"
      ],
      "metadata": {
        "id": "C6NJZR2Z0qUt"
      }
    },
    {
      "cell_type": "code",
      "source": [
        "X = df.drop(columns=['Class'])\n",
        "y = np.array(df['Class'])\n",
        "X"
      ],
      "metadata": {
        "id": "exwC-ehG0pxm",
        "colab": {
          "base_uri": "https://localhost:8080/",
          "height": 423
        },
        "outputId": "1e3d7566-6459-4be5-cc79-dd516161c8f1"
      },
      "execution_count": null,
      "outputs": [
        {
          "output_type": "execute_result",
          "data": {
            "text/plain": [
              "        G    GS   MPG  FG%  3p%  FT%  OFF  DEF  RPG  APG  SPG  BPG   TO   PF  \\\n",
              "0     362   223  24.4  466  405  800  0.6  2.1  2.7  1.5  0.5  0.3  0.8  2.0   \n",
              "1      19     0  11.9  273  298  970  0.1  1.1  1.2  1.2  0.4  0.0  1.2  1.4   \n",
              "2    1148  1140  36.9  452  400  894  1.0  3.2  4.2  3.6  1.2  0.2  2.2  2.3   \n",
              "3     466   170  19.8  482  284  745  0.9  1.9  2.8  1.3  1.2  0.4  1.4  2.2   \n",
              "4      38     1   9.5  381  292  743  0.3  0.9  1.2  0.3  0.3  0.1  0.5  1.1   \n",
              "..    ...   ...   ...  ...  ...  ...  ...  ...  ...  ...  ...  ...  ...  ...   \n",
              "303    14     0  12.0  414    0  478  0.9  1.9  2.8  0.2  0.5  0.4  1.1  1.6   \n",
              "304    19     0   5.8  444    0  417  0.8  1.2  2.1  0.0  0.2  0.8  0.3  0.7   \n",
              "305    43     5  14.7  507    0  652  1.5  2.1  3.6  0.3  0.5  0.4  0.5  1.4   \n",
              "306   137    29  14.4  511    0  624  1.3  2.1  3.4  0.3  0.3  1.2  0.9  2.4   \n",
              "307   361   104  15.5  462  222  740  1.5  2.9  4.3  0.5  0.5  0.4  0.8  2.0   \n",
              "\n",
              "      PPG  \n",
              "0     8.8  \n",
              "1     4.6  \n",
              "2    20.0  \n",
              "3     7.8  \n",
              "4     3.1  \n",
              "..    ...  \n",
              "303   2.5  \n",
              "304   1.5  \n",
              "305   4.6  \n",
              "306   4.2  \n",
              "307   4.5  \n",
              "\n",
              "[308 rows x 15 columns]"
            ],
            "text/html": [
              "\n",
              "  <div id=\"df-81e5c6f4-562b-46ce-bb7e-185bd1838430\" class=\"colab-df-container\">\n",
              "    <div>\n",
              "<style scoped>\n",
              "    .dataframe tbody tr th:only-of-type {\n",
              "        vertical-align: middle;\n",
              "    }\n",
              "\n",
              "    .dataframe tbody tr th {\n",
              "        vertical-align: top;\n",
              "    }\n",
              "\n",
              "    .dataframe thead th {\n",
              "        text-align: right;\n",
              "    }\n",
              "</style>\n",
              "<table border=\"1\" class=\"dataframe\">\n",
              "  <thead>\n",
              "    <tr style=\"text-align: right;\">\n",
              "      <th></th>\n",
              "      <th>G</th>\n",
              "      <th>GS</th>\n",
              "      <th>MPG</th>\n",
              "      <th>FG%</th>\n",
              "      <th>3p%</th>\n",
              "      <th>FT%</th>\n",
              "      <th>OFF</th>\n",
              "      <th>DEF</th>\n",
              "      <th>RPG</th>\n",
              "      <th>APG</th>\n",
              "      <th>SPG</th>\n",
              "      <th>BPG</th>\n",
              "      <th>TO</th>\n",
              "      <th>PF</th>\n",
              "      <th>PPG</th>\n",
              "    </tr>\n",
              "  </thead>\n",
              "  <tbody>\n",
              "    <tr>\n",
              "      <th>0</th>\n",
              "      <td>362</td>\n",
              "      <td>223</td>\n",
              "      <td>24.4</td>\n",
              "      <td>466</td>\n",
              "      <td>405</td>\n",
              "      <td>800</td>\n",
              "      <td>0.6</td>\n",
              "      <td>2.1</td>\n",
              "      <td>2.7</td>\n",
              "      <td>1.5</td>\n",
              "      <td>0.5</td>\n",
              "      <td>0.3</td>\n",
              "      <td>0.8</td>\n",
              "      <td>2.0</td>\n",
              "      <td>8.8</td>\n",
              "    </tr>\n",
              "    <tr>\n",
              "      <th>1</th>\n",
              "      <td>19</td>\n",
              "      <td>0</td>\n",
              "      <td>11.9</td>\n",
              "      <td>273</td>\n",
              "      <td>298</td>\n",
              "      <td>970</td>\n",
              "      <td>0.1</td>\n",
              "      <td>1.1</td>\n",
              "      <td>1.2</td>\n",
              "      <td>1.2</td>\n",
              "      <td>0.4</td>\n",
              "      <td>0.0</td>\n",
              "      <td>1.2</td>\n",
              "      <td>1.4</td>\n",
              "      <td>4.6</td>\n",
              "    </tr>\n",
              "    <tr>\n",
              "      <th>2</th>\n",
              "      <td>1148</td>\n",
              "      <td>1140</td>\n",
              "      <td>36.9</td>\n",
              "      <td>452</td>\n",
              "      <td>400</td>\n",
              "      <td>894</td>\n",
              "      <td>1.0</td>\n",
              "      <td>3.2</td>\n",
              "      <td>4.2</td>\n",
              "      <td>3.6</td>\n",
              "      <td>1.2</td>\n",
              "      <td>0.2</td>\n",
              "      <td>2.2</td>\n",
              "      <td>2.3</td>\n",
              "      <td>20.0</td>\n",
              "    </tr>\n",
              "    <tr>\n",
              "      <th>3</th>\n",
              "      <td>466</td>\n",
              "      <td>170</td>\n",
              "      <td>19.8</td>\n",
              "      <td>482</td>\n",
              "      <td>284</td>\n",
              "      <td>745</td>\n",
              "      <td>0.9</td>\n",
              "      <td>1.9</td>\n",
              "      <td>2.8</td>\n",
              "      <td>1.3</td>\n",
              "      <td>1.2</td>\n",
              "      <td>0.4</td>\n",
              "      <td>1.4</td>\n",
              "      <td>2.2</td>\n",
              "      <td>7.8</td>\n",
              "    </tr>\n",
              "    <tr>\n",
              "      <th>4</th>\n",
              "      <td>38</td>\n",
              "      <td>1</td>\n",
              "      <td>9.5</td>\n",
              "      <td>381</td>\n",
              "      <td>292</td>\n",
              "      <td>743</td>\n",
              "      <td>0.3</td>\n",
              "      <td>0.9</td>\n",
              "      <td>1.2</td>\n",
              "      <td>0.3</td>\n",
              "      <td>0.3</td>\n",
              "      <td>0.1</td>\n",
              "      <td>0.5</td>\n",
              "      <td>1.1</td>\n",
              "      <td>3.1</td>\n",
              "    </tr>\n",
              "    <tr>\n",
              "      <th>...</th>\n",
              "      <td>...</td>\n",
              "      <td>...</td>\n",
              "      <td>...</td>\n",
              "      <td>...</td>\n",
              "      <td>...</td>\n",
              "      <td>...</td>\n",
              "      <td>...</td>\n",
              "      <td>...</td>\n",
              "      <td>...</td>\n",
              "      <td>...</td>\n",
              "      <td>...</td>\n",
              "      <td>...</td>\n",
              "      <td>...</td>\n",
              "      <td>...</td>\n",
              "      <td>...</td>\n",
              "    </tr>\n",
              "    <tr>\n",
              "      <th>303</th>\n",
              "      <td>14</td>\n",
              "      <td>0</td>\n",
              "      <td>12.0</td>\n",
              "      <td>414</td>\n",
              "      <td>0</td>\n",
              "      <td>478</td>\n",
              "      <td>0.9</td>\n",
              "      <td>1.9</td>\n",
              "      <td>2.8</td>\n",
              "      <td>0.2</td>\n",
              "      <td>0.5</td>\n",
              "      <td>0.4</td>\n",
              "      <td>1.1</td>\n",
              "      <td>1.6</td>\n",
              "      <td>2.5</td>\n",
              "    </tr>\n",
              "    <tr>\n",
              "      <th>304</th>\n",
              "      <td>19</td>\n",
              "      <td>0</td>\n",
              "      <td>5.8</td>\n",
              "      <td>444</td>\n",
              "      <td>0</td>\n",
              "      <td>417</td>\n",
              "      <td>0.8</td>\n",
              "      <td>1.2</td>\n",
              "      <td>2.1</td>\n",
              "      <td>0.0</td>\n",
              "      <td>0.2</td>\n",
              "      <td>0.8</td>\n",
              "      <td>0.3</td>\n",
              "      <td>0.7</td>\n",
              "      <td>1.5</td>\n",
              "    </tr>\n",
              "    <tr>\n",
              "      <th>305</th>\n",
              "      <td>43</td>\n",
              "      <td>5</td>\n",
              "      <td>14.7</td>\n",
              "      <td>507</td>\n",
              "      <td>0</td>\n",
              "      <td>652</td>\n",
              "      <td>1.5</td>\n",
              "      <td>2.1</td>\n",
              "      <td>3.6</td>\n",
              "      <td>0.3</td>\n",
              "      <td>0.5</td>\n",
              "      <td>0.4</td>\n",
              "      <td>0.5</td>\n",
              "      <td>1.4</td>\n",
              "      <td>4.6</td>\n",
              "    </tr>\n",
              "    <tr>\n",
              "      <th>306</th>\n",
              "      <td>137</td>\n",
              "      <td>29</td>\n",
              "      <td>14.4</td>\n",
              "      <td>511</td>\n",
              "      <td>0</td>\n",
              "      <td>624</td>\n",
              "      <td>1.3</td>\n",
              "      <td>2.1</td>\n",
              "      <td>3.4</td>\n",
              "      <td>0.3</td>\n",
              "      <td>0.3</td>\n",
              "      <td>1.2</td>\n",
              "      <td>0.9</td>\n",
              "      <td>2.4</td>\n",
              "      <td>4.2</td>\n",
              "    </tr>\n",
              "    <tr>\n",
              "      <th>307</th>\n",
              "      <td>361</td>\n",
              "      <td>104</td>\n",
              "      <td>15.5</td>\n",
              "      <td>462</td>\n",
              "      <td>222</td>\n",
              "      <td>740</td>\n",
              "      <td>1.5</td>\n",
              "      <td>2.9</td>\n",
              "      <td>4.3</td>\n",
              "      <td>0.5</td>\n",
              "      <td>0.5</td>\n",
              "      <td>0.4</td>\n",
              "      <td>0.8</td>\n",
              "      <td>2.0</td>\n",
              "      <td>4.5</td>\n",
              "    </tr>\n",
              "  </tbody>\n",
              "</table>\n",
              "<p>308 rows × 15 columns</p>\n",
              "</div>\n",
              "    <div class=\"colab-df-buttons\">\n",
              "\n",
              "  <div class=\"colab-df-container\">\n",
              "    <button class=\"colab-df-convert\" onclick=\"convertToInteractive('df-81e5c6f4-562b-46ce-bb7e-185bd1838430')\"\n",
              "            title=\"Convert this dataframe to an interactive table.\"\n",
              "            style=\"display:none;\">\n",
              "\n",
              "  <svg xmlns=\"http://www.w3.org/2000/svg\" height=\"24px\" viewBox=\"0 -960 960 960\">\n",
              "    <path d=\"M120-120v-720h720v720H120Zm60-500h600v-160H180v160Zm220 220h160v-160H400v160Zm0 220h160v-160H400v160ZM180-400h160v-160H180v160Zm440 0h160v-160H620v160ZM180-180h160v-160H180v160Zm440 0h160v-160H620v160Z\"/>\n",
              "  </svg>\n",
              "    </button>\n",
              "\n",
              "  <style>\n",
              "    .colab-df-container {\n",
              "      display:flex;\n",
              "      gap: 12px;\n",
              "    }\n",
              "\n",
              "    .colab-df-convert {\n",
              "      background-color: #E8F0FE;\n",
              "      border: none;\n",
              "      border-radius: 50%;\n",
              "      cursor: pointer;\n",
              "      display: none;\n",
              "      fill: #1967D2;\n",
              "      height: 32px;\n",
              "      padding: 0 0 0 0;\n",
              "      width: 32px;\n",
              "    }\n",
              "\n",
              "    .colab-df-convert:hover {\n",
              "      background-color: #E2EBFA;\n",
              "      box-shadow: 0px 1px 2px rgba(60, 64, 67, 0.3), 0px 1px 3px 1px rgba(60, 64, 67, 0.15);\n",
              "      fill: #174EA6;\n",
              "    }\n",
              "\n",
              "    .colab-df-buttons div {\n",
              "      margin-bottom: 4px;\n",
              "    }\n",
              "\n",
              "    [theme=dark] .colab-df-convert {\n",
              "      background-color: #3B4455;\n",
              "      fill: #D2E3FC;\n",
              "    }\n",
              "\n",
              "    [theme=dark] .colab-df-convert:hover {\n",
              "      background-color: #434B5C;\n",
              "      box-shadow: 0px 1px 3px 1px rgba(0, 0, 0, 0.15);\n",
              "      filter: drop-shadow(0px 1px 2px rgba(0, 0, 0, 0.3));\n",
              "      fill: #FFFFFF;\n",
              "    }\n",
              "  </style>\n",
              "\n",
              "    <script>\n",
              "      const buttonEl =\n",
              "        document.querySelector('#df-81e5c6f4-562b-46ce-bb7e-185bd1838430 button.colab-df-convert');\n",
              "      buttonEl.style.display =\n",
              "        google.colab.kernel.accessAllowed ? 'block' : 'none';\n",
              "\n",
              "      async function convertToInteractive(key) {\n",
              "        const element = document.querySelector('#df-81e5c6f4-562b-46ce-bb7e-185bd1838430');\n",
              "        const dataTable =\n",
              "          await google.colab.kernel.invokeFunction('convertToInteractive',\n",
              "                                                    [key], {});\n",
              "        if (!dataTable) return;\n",
              "\n",
              "        const docLinkHtml = 'Like what you see? Visit the ' +\n",
              "          '<a target=\"_blank\" href=https://colab.research.google.com/notebooks/data_table.ipynb>data table notebook</a>'\n",
              "          + ' to learn more about interactive tables.';\n",
              "        element.innerHTML = '';\n",
              "        dataTable['output_type'] = 'display_data';\n",
              "        await google.colab.output.renderOutput(dataTable, element);\n",
              "        const docLink = document.createElement('div');\n",
              "        docLink.innerHTML = docLinkHtml;\n",
              "        element.appendChild(docLink);\n",
              "      }\n",
              "    </script>\n",
              "  </div>\n",
              "\n",
              "\n",
              "<div id=\"df-3d79ab50-7a01-42e8-a3bf-cc9eb19a2e26\">\n",
              "  <button class=\"colab-df-quickchart\" onclick=\"quickchart('df-3d79ab50-7a01-42e8-a3bf-cc9eb19a2e26')\"\n",
              "            title=\"Suggest charts.\"\n",
              "            style=\"display:none;\">\n",
              "\n",
              "<svg xmlns=\"http://www.w3.org/2000/svg\" height=\"24px\"viewBox=\"0 0 24 24\"\n",
              "     width=\"24px\">\n",
              "    <g>\n",
              "        <path d=\"M19 3H5c-1.1 0-2 .9-2 2v14c0 1.1.9 2 2 2h14c1.1 0 2-.9 2-2V5c0-1.1-.9-2-2-2zM9 17H7v-7h2v7zm4 0h-2V7h2v10zm4 0h-2v-4h2v4z\"/>\n",
              "    </g>\n",
              "</svg>\n",
              "  </button>\n",
              "\n",
              "<style>\n",
              "  .colab-df-quickchart {\n",
              "      --bg-color: #E8F0FE;\n",
              "      --fill-color: #1967D2;\n",
              "      --hover-bg-color: #E2EBFA;\n",
              "      --hover-fill-color: #174EA6;\n",
              "      --disabled-fill-color: #AAA;\n",
              "      --disabled-bg-color: #DDD;\n",
              "  }\n",
              "\n",
              "  [theme=dark] .colab-df-quickchart {\n",
              "      --bg-color: #3B4455;\n",
              "      --fill-color: #D2E3FC;\n",
              "      --hover-bg-color: #434B5C;\n",
              "      --hover-fill-color: #FFFFFF;\n",
              "      --disabled-bg-color: #3B4455;\n",
              "      --disabled-fill-color: #666;\n",
              "  }\n",
              "\n",
              "  .colab-df-quickchart {\n",
              "    background-color: var(--bg-color);\n",
              "    border: none;\n",
              "    border-radius: 50%;\n",
              "    cursor: pointer;\n",
              "    display: none;\n",
              "    fill: var(--fill-color);\n",
              "    height: 32px;\n",
              "    padding: 0;\n",
              "    width: 32px;\n",
              "  }\n",
              "\n",
              "  .colab-df-quickchart:hover {\n",
              "    background-color: var(--hover-bg-color);\n",
              "    box-shadow: 0 1px 2px rgba(60, 64, 67, 0.3), 0 1px 3px 1px rgba(60, 64, 67, 0.15);\n",
              "    fill: var(--button-hover-fill-color);\n",
              "  }\n",
              "\n",
              "  .colab-df-quickchart-complete:disabled,\n",
              "  .colab-df-quickchart-complete:disabled:hover {\n",
              "    background-color: var(--disabled-bg-color);\n",
              "    fill: var(--disabled-fill-color);\n",
              "    box-shadow: none;\n",
              "  }\n",
              "\n",
              "  .colab-df-spinner {\n",
              "    border: 2px solid var(--fill-color);\n",
              "    border-color: transparent;\n",
              "    border-bottom-color: var(--fill-color);\n",
              "    animation:\n",
              "      spin 1s steps(1) infinite;\n",
              "  }\n",
              "\n",
              "  @keyframes spin {\n",
              "    0% {\n",
              "      border-color: transparent;\n",
              "      border-bottom-color: var(--fill-color);\n",
              "      border-left-color: var(--fill-color);\n",
              "    }\n",
              "    20% {\n",
              "      border-color: transparent;\n",
              "      border-left-color: var(--fill-color);\n",
              "      border-top-color: var(--fill-color);\n",
              "    }\n",
              "    30% {\n",
              "      border-color: transparent;\n",
              "      border-left-color: var(--fill-color);\n",
              "      border-top-color: var(--fill-color);\n",
              "      border-right-color: var(--fill-color);\n",
              "    }\n",
              "    40% {\n",
              "      border-color: transparent;\n",
              "      border-right-color: var(--fill-color);\n",
              "      border-top-color: var(--fill-color);\n",
              "    }\n",
              "    60% {\n",
              "      border-color: transparent;\n",
              "      border-right-color: var(--fill-color);\n",
              "    }\n",
              "    80% {\n",
              "      border-color: transparent;\n",
              "      border-right-color: var(--fill-color);\n",
              "      border-bottom-color: var(--fill-color);\n",
              "    }\n",
              "    90% {\n",
              "      border-color: transparent;\n",
              "      border-bottom-color: var(--fill-color);\n",
              "    }\n",
              "  }\n",
              "</style>\n",
              "\n",
              "  <script>\n",
              "    async function quickchart(key) {\n",
              "      const quickchartButtonEl =\n",
              "        document.querySelector('#' + key + ' button');\n",
              "      quickchartButtonEl.disabled = true;  // To prevent multiple clicks.\n",
              "      quickchartButtonEl.classList.add('colab-df-spinner');\n",
              "      try {\n",
              "        const charts = await google.colab.kernel.invokeFunction(\n",
              "            'suggestCharts', [key], {});\n",
              "      } catch (error) {\n",
              "        console.error('Error during call to suggestCharts:', error);\n",
              "      }\n",
              "      quickchartButtonEl.classList.remove('colab-df-spinner');\n",
              "      quickchartButtonEl.classList.add('colab-df-quickchart-complete');\n",
              "    }\n",
              "    (() => {\n",
              "      let quickchartButtonEl =\n",
              "        document.querySelector('#df-3d79ab50-7a01-42e8-a3bf-cc9eb19a2e26 button');\n",
              "      quickchartButtonEl.style.display =\n",
              "        google.colab.kernel.accessAllowed ? 'block' : 'none';\n",
              "    })();\n",
              "  </script>\n",
              "</div>\n",
              "    </div>\n",
              "  </div>\n"
            ]
          },
          "metadata": {},
          "execution_count": 11
        }
      ]
    },
    {
      "cell_type": "code",
      "source": [
        "from sklearn.model_selection import train_test_split\n",
        "X_train, X_test, y_train, y_test = train_test_split(X, y,\n",
        "                                                    test_size=0.3,\n",
        "                                                    random_state=1234,\n",
        "                                                    stratify=y)"
      ],
      "metadata": {
        "id": "HOIlRpUQ2eCX"
      },
      "execution_count": null,
      "outputs": []
    },
    {
      "cell_type": "markdown",
      "source": [
        "## Clases y etiquetas"
      ],
      "metadata": {
        "id": "kvgJSjaT4BiY"
      }
    },
    {
      "cell_type": "code",
      "source": [
        "classes  = np.array([\"1\", \"2\"])\n",
        "features = [\"G\",\"GS\",\"MPG\",\"FG%\",\"3p%\",\"FT%\",\"OFF\",\"DEF\",\"RPG\",\"APG\",\"SPG\",\"BPG\",\"TO\",\"PF\",\"PPG\"]"
      ],
      "metadata": {
        "id": "kYgpGWCr3-9U"
      },
      "execution_count": null,
      "outputs": []
    },
    {
      "cell_type": "markdown",
      "source": [
        "# Arbol"
      ],
      "metadata": {
        "id": "79N4xBM4pgWq"
      }
    },
    {
      "cell_type": "markdown",
      "source": [
        "#### Definir el modelo"
      ],
      "metadata": {
        "id": "k-pVd0kg1mxP"
      }
    },
    {
      "cell_type": "code",
      "source": [
        "from sklearn.tree import DecisionTreeClassifier\n",
        "classifier = DecisionTreeClassifier(criterion='entropy')"
      ],
      "metadata": {
        "id": "C0aamVT9zm9t"
      },
      "execution_count": null,
      "outputs": []
    },
    {
      "cell_type": "markdown",
      "source": [
        "#### Ver los parametros"
      ],
      "metadata": {
        "id": "VlR66B8P1qu3"
      }
    },
    {
      "cell_type": "code",
      "source": [
        "classifier.get_params()"
      ],
      "metadata": {
        "id": "K01n5nwj1VKG",
        "colab": {
          "base_uri": "https://localhost:8080/"
        },
        "outputId": "5ae02b1a-a811-426d-8c09-19094f1f2493"
      },
      "execution_count": null,
      "outputs": [
        {
          "output_type": "execute_result",
          "data": {
            "text/plain": [
              "{'ccp_alpha': 0.0,\n",
              " 'class_weight': None,\n",
              " 'criterion': 'entropy',\n",
              " 'max_depth': None,\n",
              " 'max_features': None,\n",
              " 'max_leaf_nodes': None,\n",
              " 'min_impurity_decrease': 0.0,\n",
              " 'min_samples_leaf': 1,\n",
              " 'min_samples_split': 2,\n",
              " 'min_weight_fraction_leaf': 0.0,\n",
              " 'random_state': None,\n",
              " 'splitter': 'best'}"
            ]
          },
          "metadata": {},
          "execution_count": 15
        }
      ]
    },
    {
      "cell_type": "markdown",
      "source": [
        "#### Entrenar el modelo"
      ],
      "metadata": {
        "id": "gKt7gHac1s4A"
      }
    },
    {
      "cell_type": "code",
      "source": [
        "classifier = classifier.fit(X_train, y_train)"
      ],
      "metadata": {
        "id": "rBooNUgS1XDv"
      },
      "execution_count": null,
      "outputs": []
    },
    {
      "cell_type": "markdown",
      "source": [
        "#### Pintar el modelo"
      ],
      "metadata": {
        "id": "VOZrakoJ1vEP"
      }
    },
    {
      "cell_type": "code",
      "source": [
        "#pl.figure(figsize = (10, 6))\n",
        "\n",
        "##plot_decision_region(X, gen_pred_fun(classifier))\n",
        "##plot_data(X_train, y_train)"
      ],
      "metadata": {
        "id": "6gr5jzlY1dKI"
      },
      "execution_count": null,
      "outputs": []
    },
    {
      "cell_type": "code",
      "source": [
        "#pl.figure(figsize = (10, 6))\n",
        "#plot_decision_region(X, gen_pred_fun(classifier))\n",
        "#plot_data(X_test, y_test)"
      ],
      "metadata": {
        "id": "CYk2jLGo3HjS"
      },
      "execution_count": null,
      "outputs": []
    },
    {
      "cell_type": "markdown",
      "source": [
        "#### Score"
      ],
      "metadata": {
        "id": "z1OCbWs516TP"
      }
    },
    {
      "cell_type": "code",
      "source": [
        "print('Error: {}'.format(1-classifier.score(X, y)))"
      ],
      "metadata": {
        "id": "OUuCbMqf18f2",
        "colab": {
          "base_uri": "https://localhost:8080/"
        },
        "outputId": "88e313e8-2e4c-488e-e609-638680beeab9"
      },
      "execution_count": null,
      "outputs": [
        {
          "output_type": "stream",
          "name": "stdout",
          "text": [
            "Error: 0.016233766233766267\n"
          ]
        }
      ]
    },
    {
      "cell_type": "code",
      "source": [
        "print('Error: {}'.format(1-classifier.score(X_train, y_train)))"
      ],
      "metadata": {
        "id": "yxe6CSnA3Oa6",
        "colab": {
          "base_uri": "https://localhost:8080/"
        },
        "outputId": "c8f7284a-aebc-4fa2-f220-6ba406114848"
      },
      "execution_count": null,
      "outputs": [
        {
          "output_type": "stream",
          "name": "stdout",
          "text": [
            "Error: 0.0\n"
          ]
        }
      ]
    },
    {
      "cell_type": "code",
      "source": [
        "print('Error: {}'.format(1-classifier.score(X_test, y_test)))"
      ],
      "metadata": {
        "id": "KtB637BQ3QRR",
        "colab": {
          "base_uri": "https://localhost:8080/"
        },
        "outputId": "522088e6-b522-44b2-d4de-c2dda3dcabaf"
      },
      "execution_count": null,
      "outputs": [
        {
          "output_type": "stream",
          "name": "stdout",
          "text": [
            "Error: 0.053763440860215006\n"
          ]
        }
      ]
    },
    {
      "cell_type": "markdown",
      "source": [
        "## Dibujar arbol"
      ],
      "metadata": {
        "id": "971EH2e03qFh"
      }
    },
    {
      "cell_type": "code",
      "source": [
        "#type(features)"
      ],
      "metadata": {
        "id": "gFmpVIhSK66m"
      },
      "execution_count": null,
      "outputs": []
    },
    {
      "cell_type": "code",
      "source": [
        "train_error = []\n",
        "generalization_error = []\n",
        "max_depth_values = list(range(1, 21, 1))\n",
        "\n",
        "for depth in max_depth_values:\n",
        "    decision_tree = DecisionTreeClassifier(max_depth=depth)\n",
        "    decision_tree.fit(X_train, y_train)\n",
        "    train_error.append(1 - decision_tree.score(X_train, y_train))\n",
        "    generalization_error.append(1 - decision_tree.score(X_test, y_test))"
      ],
      "metadata": {
        "id": "dR4Y1NgrYE5h"
      },
      "execution_count": null,
      "outputs": []
    },
    {
      "cell_type": "code",
      "source": [
        "pl.figure(figsize = (10, 6))\n",
        "\n",
        "pl.plot(max_depth_values, train_error, label=\"Entrenamiento\")\n",
        "pl.plot(max_depth_values, generalization_error, label=\"Generalización\")\n",
        "pl.xticks(max_depth_values)\n",
        "pl.xlabel(\"Profundidad máxima\")\n",
        "pl.ylabel(\"Error\")\n",
        "pl.arrow(2.2, 0.07, 0, -0.01, head_width=0.2, head_length=0.01, fc='k', ec='k')\n",
        "pl.text(2, 0.08, 'Punto de balance')\n",
        "pl.legend();"
      ],
      "metadata": {
        "id": "a1cMB7ZKYFmm",
        "colab": {
          "base_uri": "https://localhost:8080/",
          "height": 542
        },
        "outputId": "8f91e01f-d61f-4813-b58f-fcf4ccec79a9"
      },
      "execution_count": null,
      "outputs": [
        {
          "output_type": "display_data",
          "data": {
            "text/plain": [
              "<Figure size 1000x600 with 1 Axes>"
            ],
            "image/png": "[encoded data removed]"
          },
          "metadata": {}
        }
      ]
    },
    {
      "cell_type": "code",
      "source": [
        "from IPython.display import SVG\n",
        "dot_data = export_graphviz(classifier, out_file=None,\n",
        "                         feature_names=features,\n",
        "                         class_names=classes,\n",
        "                         filled=True, rounded=True,\n",
        "                         special_characters=True)\n",
        "graph = graphviz.Source(dot_data)\n",
        "SVG(graph.pipe(format='svg'))"
      ],
      "metadata": {
        "id": "DgfCGfsy3p4C",
        "colab": {
          "base_uri": "https://localhost:8080/",
          "height": 1000
        },
        "outputId": "340b3587-7783-4c19-d24d-3fcffda006c8"
      },
      "execution_count": null,
      "outputs": [
        {
          "output_type": "execute_result",
          "data": {
            "text/plain": [
              "<IPython.core.display.SVG object>"
            ],
            "image/svg+xml": "<svg xmlns=\"http://www.w3.org/2000/svg\" xmlns:xlink=\"http://www.w3.org/1999/xlink\" width=\"771pt\" height=\"909pt\" viewBox=\"0.00 0.00 771.00 909.00\">\n<g id=\"graph0\" class=\"graph\" transform=\"scale(1 1) rotate(0) translate(4 905)\">\n<title>Tree</title>\n<polygon fill=\"white\" stroke=\"transparent\" points=\"-4,4 -4,-905 767,-905 767,4 -4,4\"/>\n<!-- 0 -->\n<g id=\"node1\" class=\"node\">\n<title>0</title>\n<path fill=\"#f4c7a7\" stroke=\"black\" d=\"M346.5,-901C346.5,-901 253.5,-901 253.5,-901 247.5,-901 241.5,-895 241.5,-889 241.5,-889 241.5,-830 241.5,-830 241.5,-824 247.5,-818 253.5,-818 253.5,-818 346.5,-818 346.5,-818 352.5,-818 358.5,-824 358.5,-830 358.5,-830 358.5,-889 358.5,-889 358.5,-895 352.5,-901 346.5,-901\"/>\n<text text-anchor=\"start\" x=\"265\" y=\"-885.8\" font-family=\"Helvetica,sans-Serif\" font-size=\"14.00\">OFF ≤ 1.05</text>\n<text text-anchor=\"start\" x=\"252.5\" y=\"-870.8\" font-family=\"Helvetica,sans-Serif\" font-size=\"14.00\">entropy = 0.941</text>\n<text text-anchor=\"start\" x=\"255\" y=\"-855.8\" font-family=\"Helvetica,sans-Serif\" font-size=\"14.00\">samples = 215</text>\n<text text-anchor=\"start\" x=\"249.5\" y=\"-840.8\" font-family=\"Helvetica,sans-Serif\" font-size=\"14.00\">value = [138, 77]</text>\n<text text-anchor=\"start\" x=\"272.5\" y=\"-825.8\" font-family=\"Helvetica,sans-Serif\" font-size=\"14.00\">class = 1</text>\n</g>\n<!-- 1 -->\n<g id=\"node2\" class=\"node\">\n<title>1</title>\n<path fill=\"#e78b49\" stroke=\"black\" d=\"M280.5,-782C280.5,-782 187.5,-782 187.5,-782 181.5,-782 175.5,-776 175.5,-770 175.5,-770 175.5,-711 175.5,-711 175.5,-705 181.5,-699 187.5,-699 187.5,-699 280.5,-699 280.5,-699 286.5,-699 292.5,-705 292.5,-711 292.5,-711 292.5,-770 292.5,-770 292.5,-776 286.5,-782 280.5,-782\"/>\n<text text-anchor=\"start\" x=\"199\" y=\"-766.8\" font-family=\"Helvetica,sans-Serif\" font-size=\"14.00\">3p% ≤ 41.5</text>\n<text text-anchor=\"start\" x=\"186.5\" y=\"-751.8\" font-family=\"Helvetica,sans-Serif\" font-size=\"14.00\">entropy = 0.379</text>\n<text text-anchor=\"start\" x=\"189\" y=\"-736.8\" font-family=\"Helvetica,sans-Serif\" font-size=\"14.00\">samples = 136</text>\n<text text-anchor=\"start\" x=\"183.5\" y=\"-721.8\" font-family=\"Helvetica,sans-Serif\" font-size=\"14.00\">value = [126, 10]</text>\n<text text-anchor=\"start\" x=\"206.5\" y=\"-706.8\" font-family=\"Helvetica,sans-Serif\" font-size=\"14.00\">class = 1</text>\n</g>\n<!-- 0&#45;&gt;1 -->\n<g id=\"edge1\" class=\"edge\">\n<title>0-&gt;1</title>\n<path fill=\"none\" stroke=\"black\" d=\"M277.1,-817.91C272.19,-809.2 266.94,-799.9 261.86,-790.89\"/>\n<polygon fill=\"black\" stroke=\"black\" points=\"264.82,-789.01 256.86,-782.02 258.72,-792.45 264.82,-789.01\"/>\n<text text-anchor=\"middle\" x=\"250.15\" y=\"-802.4\" font-family=\"Helvetica,sans-Serif\" font-size=\"14.00\">True</text>\n</g>\n<!-- 14 -->\n<g id=\"node15\" class=\"node\">\n<title>14</title>\n<path fill=\"#5cafea\" stroke=\"black\" d=\"M458.5,-782C458.5,-782 371.5,-782 371.5,-782 365.5,-782 359.5,-776 359.5,-770 359.5,-770 359.5,-711 359.5,-711 359.5,-705 365.5,-699 371.5,-699 371.5,-699 458.5,-699 458.5,-699 464.5,-699 470.5,-705 470.5,-711 470.5,-711 470.5,-770 470.5,-770 470.5,-776 464.5,-782 458.5,-782\"/>\n<text text-anchor=\"start\" x=\"379.5\" y=\"-766.8\" font-family=\"Helvetica,sans-Serif\" font-size=\"14.00\">SPG ≤ 0.75</text>\n<text text-anchor=\"start\" x=\"367.5\" y=\"-751.8\" font-family=\"Helvetica,sans-Serif\" font-size=\"14.00\">entropy = 0.615</text>\n<text text-anchor=\"start\" x=\"374\" y=\"-736.8\" font-family=\"Helvetica,sans-Serif\" font-size=\"14.00\">samples = 79</text>\n<text text-anchor=\"start\" x=\"368\" y=\"-721.8\" font-family=\"Helvetica,sans-Serif\" font-size=\"14.00\">value = [12, 67]</text>\n<text text-anchor=\"start\" x=\"387.5\" y=\"-706.8\" font-family=\"Helvetica,sans-Serif\" font-size=\"14.00\">class = 2</text>\n</g>\n<!-- 0&#45;&gt;14 -->\n<g id=\"edge14\" class=\"edge\">\n<title>0-&gt;14</title>\n<path fill=\"none\" stroke=\"black\" d=\"M339.9,-817.91C349,-808.65 358.75,-798.73 368.11,-789.21\"/>\n<polygon fill=\"black\" stroke=\"black\" points=\"370.66,-791.61 375.17,-782.02 365.67,-786.7 370.66,-791.61\"/>\n<text text-anchor=\"middle\" x=\"375.39\" y=\"-803.32\" font-family=\"Helvetica,sans-Serif\" font-size=\"14.00\">False</text>\n</g>\n<!-- 2 -->\n<g id=\"node3\" class=\"node\">\n<title>2</title>\n<path fill=\"#399de5\" stroke=\"black\" d=\"M148,-655.5C148,-655.5 76,-655.5 76,-655.5 70,-655.5 64,-649.5 64,-643.5 64,-643.5 64,-599.5 64,-599.5 64,-593.5 70,-587.5 76,-587.5 76,-587.5 148,-587.5 148,-587.5 154,-587.5 160,-593.5 160,-599.5 160,-599.5 160,-643.5 160,-643.5 160,-649.5 154,-655.5 148,-655.5\"/>\n<text text-anchor=\"start\" x=\"72\" y=\"-640.3\" font-family=\"Helvetica,sans-Serif\" font-size=\"14.00\">entropy = 0.0</text>\n<text text-anchor=\"start\" x=\"74.5\" y=\"-625.3\" font-family=\"Helvetica,sans-Serif\" font-size=\"14.00\">samples = 7</text>\n<text text-anchor=\"start\" x=\"72.5\" y=\"-610.3\" font-family=\"Helvetica,sans-Serif\" font-size=\"14.00\">value = [0, 7]</text>\n<text text-anchor=\"start\" x=\"84.5\" y=\"-595.3\" font-family=\"Helvetica,sans-Serif\" font-size=\"14.00\">class = 2</text>\n</g>\n<!-- 1&#45;&gt;2 -->\n<g id=\"edge2\" class=\"edge\">\n<title>1-&gt;2</title>\n<path fill=\"none\" stroke=\"black\" d=\"M191.67,-698.91C179.48,-687.21 166.18,-674.46 154,-662.78\"/>\n<polygon fill=\"black\" stroke=\"black\" points=\"156.22,-660.06 146.58,-655.67 151.38,-665.11 156.22,-660.06\"/>\n</g>\n<!-- 3 -->\n<g id=\"node4\" class=\"node\">\n<title>3</title>\n<path fill=\"#e6843e\" stroke=\"black\" d=\"M277.5,-663C277.5,-663 190.5,-663 190.5,-663 184.5,-663 178.5,-657 178.5,-651 178.5,-651 178.5,-592 178.5,-592 178.5,-586 184.5,-580 190.5,-580 190.5,-580 277.5,-580 277.5,-580 283.5,-580 289.5,-586 289.5,-592 289.5,-592 289.5,-651 289.5,-651 289.5,-657 283.5,-663 277.5,-663\"/>\n<text text-anchor=\"start\" x=\"198.5\" y=\"-647.8\" font-family=\"Helvetica,sans-Serif\" font-size=\"14.00\">SPG ≤ 0.45</text>\n<text text-anchor=\"start\" x=\"186.5\" y=\"-632.8\" font-family=\"Helvetica,sans-Serif\" font-size=\"14.00\">entropy = 0.159</text>\n<text text-anchor=\"start\" x=\"189\" y=\"-617.8\" font-family=\"Helvetica,sans-Serif\" font-size=\"14.00\">samples = 129</text>\n<text text-anchor=\"start\" x=\"187\" y=\"-602.8\" font-family=\"Helvetica,sans-Serif\" font-size=\"14.00\">value = [126, 3]</text>\n<text text-anchor=\"start\" x=\"206.5\" y=\"-587.8\" font-family=\"Helvetica,sans-Serif\" font-size=\"14.00\">class = 1</text>\n</g>\n<!-- 1&#45;&gt;3 -->\n<g id=\"edge3\" class=\"edge\">\n<title>1-&gt;3</title>\n<path fill=\"none\" stroke=\"black\" d=\"M234,-698.91C234,-690.65 234,-681.86 234,-673.3\"/>\n<polygon fill=\"black\" stroke=\"black\" points=\"237.5,-673.02 234,-663.02 230.5,-673.02 237.5,-673.02\"/>\n</g>\n<!-- 4 -->\n<g id=\"node5\" class=\"node\">\n<title>4</title>\n<path fill=\"#e88f4f\" stroke=\"black\" d=\"M152.5,-544C152.5,-544 65.5,-544 65.5,-544 59.5,-544 53.5,-538 53.5,-532 53.5,-532 53.5,-473 53.5,-473 53.5,-467 59.5,-461 65.5,-461 65.5,-461 152.5,-461 152.5,-461 158.5,-461 164.5,-467 164.5,-473 164.5,-473 164.5,-532 164.5,-532 164.5,-538 158.5,-544 152.5,-544\"/>\n<text text-anchor=\"start\" x=\"73.5\" y=\"-528.8\" font-family=\"Helvetica,sans-Serif\" font-size=\"14.00\">BPG ≤ 0.15</text>\n<text text-anchor=\"start\" x=\"61.5\" y=\"-513.8\" font-family=\"Helvetica,sans-Serif\" font-size=\"14.00\">entropy = 0.469</text>\n<text text-anchor=\"start\" x=\"68\" y=\"-498.8\" font-family=\"Helvetica,sans-Serif\" font-size=\"14.00\">samples = 30</text>\n<text text-anchor=\"start\" x=\"66\" y=\"-483.8\" font-family=\"Helvetica,sans-Serif\" font-size=\"14.00\">value = [27, 3]</text>\n<text text-anchor=\"start\" x=\"81.5\" y=\"-468.8\" font-family=\"Helvetica,sans-Serif\" font-size=\"14.00\">class = 1</text>\n</g>\n<!-- 3&#45;&gt;4 -->\n<g id=\"edge4\" class=\"edge\">\n<title>3-&gt;4</title>\n<path fill=\"none\" stroke=\"black\" d=\"M190.63,-579.91C180.65,-570.56 169.94,-560.54 159.67,-550.93\"/>\n<polygon fill=\"black\" stroke=\"black\" points=\"161.98,-548.3 152.29,-544.02 157.2,-553.41 161.98,-548.3\"/>\n</g>\n<!-- 13 -->\n<g id=\"node14\" class=\"node\">\n<title>13</title>\n<path fill=\"#e58139\" stroke=\"black\" d=\"M273,-536.5C273,-536.5 195,-536.5 195,-536.5 189,-536.5 183,-530.5 183,-524.5 183,-524.5 183,-480.5 183,-480.5 183,-474.5 189,-468.5 195,-468.5 195,-468.5 273,-468.5 273,-468.5 279,-468.5 285,-474.5 285,-480.5 285,-480.5 285,-524.5 285,-524.5 285,-530.5 279,-536.5 273,-536.5\"/>\n<text text-anchor=\"start\" x=\"194\" y=\"-521.3\" font-family=\"Helvetica,sans-Serif\" font-size=\"14.00\">entropy = 0.0</text>\n<text text-anchor=\"start\" x=\"193\" y=\"-506.3\" font-family=\"Helvetica,sans-Serif\" font-size=\"14.00\">samples = 99</text>\n<text text-anchor=\"start\" x=\"191\" y=\"-491.3\" font-family=\"Helvetica,sans-Serif\" font-size=\"14.00\">value = [99, 0]</text>\n<text text-anchor=\"start\" x=\"206.5\" y=\"-476.3\" font-family=\"Helvetica,sans-Serif\" font-size=\"14.00\">class = 1</text>\n</g>\n<!-- 3&#45;&gt;13 -->\n<g id=\"edge13\" class=\"edge\">\n<title>3-&gt;13</title>\n<path fill=\"none\" stroke=\"black\" d=\"M234,-579.91C234,-569.2 234,-557.62 234,-546.78\"/>\n<polygon fill=\"black\" stroke=\"black\" points=\"237.5,-546.67 234,-536.67 230.5,-546.67 237.5,-546.67\"/>\n</g>\n<!-- 5 -->\n<g id=\"node6\" class=\"node\">\n<title>5</title>\n<path fill=\"#e58139\" stroke=\"black\" d=\"M90,-417.5C90,-417.5 12,-417.5 12,-417.5 6,-417.5 0,-411.5 0,-405.5 0,-405.5 0,-361.5 0,-361.5 0,-355.5 6,-349.5 12,-349.5 12,-349.5 90,-349.5 90,-349.5 96,-349.5 102,-355.5 102,-361.5 102,-361.5 102,-405.5 102,-405.5 102,-411.5 96,-417.5 90,-417.5\"/>\n<text text-anchor=\"start\" x=\"11\" y=\"-402.3\" font-family=\"Helvetica,sans-Serif\" font-size=\"14.00\">entropy = 0.0</text>\n<text text-anchor=\"start\" x=\"10\" y=\"-387.3\" font-family=\"Helvetica,sans-Serif\" font-size=\"14.00\">samples = 24</text>\n<text text-anchor=\"start\" x=\"8\" y=\"-372.3\" font-family=\"Helvetica,sans-Serif\" font-size=\"14.00\">value = [24, 0]</text>\n<text text-anchor=\"start\" x=\"23.5\" y=\"-357.3\" font-family=\"Helvetica,sans-Serif\" font-size=\"14.00\">class = 1</text>\n</g>\n<!-- 4&#45;&gt;5 -->\n<g id=\"edge5\" class=\"edge\">\n<title>4-&gt;5</title>\n<path fill=\"none\" stroke=\"black\" d=\"M88.88,-460.91C83.41,-449.87 77.47,-437.9 71.96,-426.77\"/>\n<polygon fill=\"black\" stroke=\"black\" points=\"75.02,-425.07 67.44,-417.67 68.75,-428.18 75.02,-425.07\"/>\n</g>\n<!-- 6 -->\n<g id=\"node7\" class=\"node\">\n<title>6</title>\n<path fill=\"#ffffff\" stroke=\"black\" d=\"M204,-425C204,-425 132,-425 132,-425 126,-425 120,-419 120,-413 120,-413 120,-354 120,-354 120,-348 126,-342 132,-342 132,-342 204,-342 204,-342 210,-342 216,-348 216,-354 216,-354 216,-413 216,-413 216,-419 210,-425 204,-425\"/>\n<text text-anchor=\"start\" x=\"136\" y=\"-409.8\" font-family=\"Helvetica,sans-Serif\" font-size=\"14.00\">SPG ≤ 0.2</text>\n<text text-anchor=\"start\" x=\"128\" y=\"-394.8\" font-family=\"Helvetica,sans-Serif\" font-size=\"14.00\">entropy = 1.0</text>\n<text text-anchor=\"start\" x=\"130.5\" y=\"-379.8\" font-family=\"Helvetica,sans-Serif\" font-size=\"14.00\">samples = 6</text>\n<text text-anchor=\"start\" x=\"128.5\" y=\"-364.8\" font-family=\"Helvetica,sans-Serif\" font-size=\"14.00\">value = [3, 3]</text>\n<text text-anchor=\"start\" x=\"140.5\" y=\"-349.8\" font-family=\"Helvetica,sans-Serif\" font-size=\"14.00\">class = 1</text>\n</g>\n<!-- 4&#45;&gt;6 -->\n<g id=\"edge6\" class=\"edge\">\n<title>4-&gt;6</title>\n<path fill=\"none\" stroke=\"black\" d=\"M129.47,-460.91C133.82,-452.29 138.45,-443.09 142.95,-434.17\"/>\n<polygon fill=\"black\" stroke=\"black\" points=\"146.19,-435.53 147.57,-425.02 139.94,-432.37 146.19,-435.53\"/>\n</g>\n<!-- 7 -->\n<g id=\"node8\" class=\"node\">\n<title>7</title>\n<path fill=\"#399de5\" stroke=\"black\" d=\"M143,-298.5C143,-298.5 71,-298.5 71,-298.5 65,-298.5 59,-292.5 59,-286.5 59,-286.5 59,-242.5 59,-242.5 59,-236.5 65,-230.5 71,-230.5 71,-230.5 143,-230.5 143,-230.5 149,-230.5 155,-236.5 155,-242.5 155,-242.5 155,-286.5 155,-286.5 155,-292.5 149,-298.5 143,-298.5\"/>\n<text text-anchor=\"start\" x=\"67\" y=\"-283.3\" font-family=\"Helvetica,sans-Serif\" font-size=\"14.00\">entropy = 0.0</text>\n<text text-anchor=\"start\" x=\"69.5\" y=\"-268.3\" font-family=\"Helvetica,sans-Serif\" font-size=\"14.00\">samples = 1</text>\n<text text-anchor=\"start\" x=\"67.5\" y=\"-253.3\" font-family=\"Helvetica,sans-Serif\" font-size=\"14.00\">value = [0, 1]</text>\n<text text-anchor=\"start\" x=\"79.5\" y=\"-238.3\" font-family=\"Helvetica,sans-Serif\" font-size=\"14.00\">class = 2</text>\n</g>\n<!-- 6&#45;&gt;7 -->\n<g id=\"edge7\" class=\"edge\">\n<title>6-&gt;7</title>\n<path fill=\"none\" stroke=\"black\" d=\"M146.84,-341.91C141.08,-330.87 134.84,-318.9 129.04,-307.77\"/>\n<polygon fill=\"black\" stroke=\"black\" points=\"132.02,-305.92 124.29,-298.67 125.81,-309.15 132.02,-305.92\"/>\n</g>\n<!-- 8 -->\n<g id=\"node9\" class=\"node\">\n<title>8</title>\n<path fill=\"#f6d5bd\" stroke=\"black\" d=\"M272.5,-306C272.5,-306 185.5,-306 185.5,-306 179.5,-306 173.5,-300 173.5,-294 173.5,-294 173.5,-235 173.5,-235 173.5,-229 179.5,-223 185.5,-223 185.5,-223 272.5,-223 272.5,-223 278.5,-223 284.5,-229 284.5,-235 284.5,-235 284.5,-294 284.5,-294 284.5,-300 278.5,-306 272.5,-306\"/>\n<text text-anchor=\"start\" x=\"197\" y=\"-290.8\" font-family=\"Helvetica,sans-Serif\" font-size=\"14.00\">RPG ≤ 2.4</text>\n<text text-anchor=\"start\" x=\"181.5\" y=\"-275.8\" font-family=\"Helvetica,sans-Serif\" font-size=\"14.00\">entropy = 0.971</text>\n<text text-anchor=\"start\" x=\"191.5\" y=\"-260.8\" font-family=\"Helvetica,sans-Serif\" font-size=\"14.00\">samples = 5</text>\n<text text-anchor=\"start\" x=\"189.5\" y=\"-245.8\" font-family=\"Helvetica,sans-Serif\" font-size=\"14.00\">value = [3, 2]</text>\n<text text-anchor=\"start\" x=\"201.5\" y=\"-230.8\" font-family=\"Helvetica,sans-Serif\" font-size=\"14.00\">class = 1</text>\n</g>\n<!-- 6&#45;&gt;8 -->\n<g id=\"edge8\" class=\"edge\">\n<title>6-&gt;8</title>\n<path fill=\"none\" stroke=\"black\" d=\"M189.16,-341.91C193.71,-333.2 198.55,-323.9 203.25,-314.89\"/>\n<polygon fill=\"black\" stroke=\"black\" points=\"206.35,-316.51 207.87,-306.02 200.15,-313.27 206.35,-316.51\"/>\n</g>\n<!-- 9 -->\n<g id=\"node10\" class=\"node\">\n<title>9</title>\n<path fill=\"#e58139\" stroke=\"black\" d=\"M204,-179.5C204,-179.5 132,-179.5 132,-179.5 126,-179.5 120,-173.5 120,-167.5 120,-167.5 120,-123.5 120,-123.5 120,-117.5 126,-111.5 132,-111.5 132,-111.5 204,-111.5 204,-111.5 210,-111.5 216,-117.5 216,-123.5 216,-123.5 216,-167.5 216,-167.5 216,-173.5 210,-179.5 204,-179.5\"/>\n<text text-anchor=\"start\" x=\"128\" y=\"-164.3\" font-family=\"Helvetica,sans-Serif\" font-size=\"14.00\">entropy = 0.0</text>\n<text text-anchor=\"start\" x=\"130.5\" y=\"-149.3\" font-family=\"Helvetica,sans-Serif\" font-size=\"14.00\">samples = 2</text>\n<text text-anchor=\"start\" x=\"128.5\" y=\"-134.3\" font-family=\"Helvetica,sans-Serif\" font-size=\"14.00\">value = [2, 0]</text>\n<text text-anchor=\"start\" x=\"140.5\" y=\"-119.3\" font-family=\"Helvetica,sans-Serif\" font-size=\"14.00\">class = 1</text>\n</g>\n<!-- 8&#45;&gt;9 -->\n<g id=\"edge9\" class=\"edge\">\n<title>8-&gt;9</title>\n<path fill=\"none\" stroke=\"black\" d=\"M207.84,-222.91C202.08,-211.87 195.84,-199.9 190.04,-188.77\"/>\n<polygon fill=\"black\" stroke=\"black\" points=\"193.02,-186.92 185.29,-179.67 186.81,-190.15 193.02,-186.92\"/>\n</g>\n<!-- 10 -->\n<g id=\"node11\" class=\"node\">\n<title>10</title>\n<path fill=\"#9ccef2\" stroke=\"black\" d=\"M333.5,-187C333.5,-187 246.5,-187 246.5,-187 240.5,-187 234.5,-181 234.5,-175 234.5,-175 234.5,-116 234.5,-116 234.5,-110 240.5,-104 246.5,-104 246.5,-104 333.5,-104 333.5,-104 339.5,-104 345.5,-110 345.5,-116 345.5,-116 345.5,-175 345.5,-175 345.5,-181 339.5,-187 333.5,-187\"/>\n<text text-anchor=\"start\" x=\"259.5\" y=\"-171.8\" font-family=\"Helvetica,sans-Serif\" font-size=\"14.00\">G ≤ 393.5</text>\n<text text-anchor=\"start\" x=\"242.5\" y=\"-156.8\" font-family=\"Helvetica,sans-Serif\" font-size=\"14.00\">entropy = 0.918</text>\n<text text-anchor=\"start\" x=\"252.5\" y=\"-141.8\" font-family=\"Helvetica,sans-Serif\" font-size=\"14.00\">samples = 3</text>\n<text text-anchor=\"start\" x=\"250.5\" y=\"-126.8\" font-family=\"Helvetica,sans-Serif\" font-size=\"14.00\">value = [1, 2]</text>\n<text text-anchor=\"start\" x=\"262.5\" y=\"-111.8\" font-family=\"Helvetica,sans-Serif\" font-size=\"14.00\">class = 2</text>\n</g>\n<!-- 8&#45;&gt;10 -->\n<g id=\"edge10\" class=\"edge\">\n<title>8-&gt;10</title>\n<path fill=\"none\" stroke=\"black\" d=\"M250.16,-222.91C254.71,-214.2 259.55,-204.9 264.25,-195.89\"/>\n<polygon fill=\"black\" stroke=\"black\" points=\"267.35,-197.51 268.87,-187.02 261.15,-194.27 267.35,-197.51\"/>\n</g>\n<!-- 11 -->\n<g id=\"node12\" class=\"node\">\n<title>11</title>\n<path fill=\"#e58139\" stroke=\"black\" d=\"M269,-68C269,-68 197,-68 197,-68 191,-68 185,-62 185,-56 185,-56 185,-12 185,-12 185,-6 191,0 197,0 197,0 269,0 269,0 275,0 281,-6 281,-12 281,-12 281,-56 281,-56 281,-62 275,-68 269,-68\"/>\n<text text-anchor=\"start\" x=\"193\" y=\"-52.8\" font-family=\"Helvetica,sans-Serif\" font-size=\"14.00\">entropy = 0.0</text>\n<text text-anchor=\"start\" x=\"195.5\" y=\"-37.8\" font-family=\"Helvetica,sans-Serif\" font-size=\"14.00\">samples = 1</text>\n<text text-anchor=\"start\" x=\"193.5\" y=\"-22.8\" font-family=\"Helvetica,sans-Serif\" font-size=\"14.00\">value = [1, 0]</text>\n<text text-anchor=\"start\" x=\"205.5\" y=\"-7.8\" font-family=\"Helvetica,sans-Serif\" font-size=\"14.00\">class = 1</text>\n</g>\n<!-- 10&#45;&gt;11 -->\n<g id=\"edge11\" class=\"edge\">\n<title>10-&gt;11</title>\n<path fill=\"none\" stroke=\"black\" d=\"M268.78,-103.73C264.26,-95.06 259.49,-85.9 254.96,-77.18\"/>\n<polygon fill=\"black\" stroke=\"black\" points=\"258.06,-75.55 250.33,-68.3 251.85,-78.79 258.06,-75.55\"/>\n</g>\n<!-- 12 -->\n<g id=\"node13\" class=\"node\">\n<title>12</title>\n<path fill=\"#399de5\" stroke=\"black\" d=\"M383,-68C383,-68 311,-68 311,-68 305,-68 299,-62 299,-56 299,-56 299,-12 299,-12 299,-6 305,0 311,0 311,0 383,0 383,0 389,0 395,-6 395,-12 395,-12 395,-56 395,-56 395,-62 389,-68 383,-68\"/>\n<text text-anchor=\"start\" x=\"307\" y=\"-52.8\" font-family=\"Helvetica,sans-Serif\" font-size=\"14.00\">entropy = 0.0</text>\n<text text-anchor=\"start\" x=\"309.5\" y=\"-37.8\" font-family=\"Helvetica,sans-Serif\" font-size=\"14.00\">samples = 2</text>\n<text text-anchor=\"start\" x=\"307.5\" y=\"-22.8\" font-family=\"Helvetica,sans-Serif\" font-size=\"14.00\">value = [0, 2]</text>\n<text text-anchor=\"start\" x=\"319.5\" y=\"-7.8\" font-family=\"Helvetica,sans-Serif\" font-size=\"14.00\">class = 2</text>\n</g>\n<!-- 10&#45;&gt;12 -->\n<g id=\"edge12\" class=\"edge\">\n<title>10-&gt;12</title>\n<path fill=\"none\" stroke=\"black\" d=\"M311.22,-103.73C315.74,-95.06 320.51,-85.9 325.04,-77.18\"/>\n<polygon fill=\"black\" stroke=\"black\" points=\"328.15,-78.79 329.67,-68.3 321.94,-75.55 328.15,-78.79\"/>\n</g>\n<!-- 15 -->\n<g id=\"node16\" class=\"node\">\n<title>15</title>\n<path fill=\"#3c9fe5\" stroke=\"black\" d=\"M458.5,-663C458.5,-663 371.5,-663 371.5,-663 365.5,-663 359.5,-657 359.5,-651 359.5,-651 359.5,-592 359.5,-592 359.5,-586 365.5,-580 371.5,-580 371.5,-580 458.5,-580 458.5,-580 464.5,-580 470.5,-586 470.5,-592 470.5,-592 470.5,-651 470.5,-651 470.5,-657 464.5,-663 458.5,-663\"/>\n<text text-anchor=\"start\" x=\"376.5\" y=\"-647.8\" font-family=\"Helvetica,sans-Serif\" font-size=\"14.00\">3p% ≤ 399.5</text>\n<text text-anchor=\"start\" x=\"367.5\" y=\"-632.8\" font-family=\"Helvetica,sans-Serif\" font-size=\"14.00\">entropy = 0.124</text>\n<text text-anchor=\"start\" x=\"374\" y=\"-617.8\" font-family=\"Helvetica,sans-Serif\" font-size=\"14.00\">samples = 59</text>\n<text text-anchor=\"start\" x=\"372\" y=\"-602.8\" font-family=\"Helvetica,sans-Serif\" font-size=\"14.00\">value = [1, 58]</text>\n<text text-anchor=\"start\" x=\"387.5\" y=\"-587.8\" font-family=\"Helvetica,sans-Serif\" font-size=\"14.00\">class = 2</text>\n</g>\n<!-- 14&#45;&gt;15 -->\n<g id=\"edge15\" class=\"edge\">\n<title>14-&gt;15</title>\n<path fill=\"none\" stroke=\"black\" d=\"M415,-698.91C415,-690.65 415,-681.86 415,-673.3\"/>\n<polygon fill=\"black\" stroke=\"black\" points=\"418.5,-673.02 415,-663.02 411.5,-673.02 418.5,-673.02\"/>\n</g>\n<!-- 18 -->\n<g id=\"node19\" class=\"node\">\n<title>18</title>\n<path fill=\"#fae8db\" stroke=\"black\" d=\"M636.5,-663C636.5,-663 549.5,-663 549.5,-663 543.5,-663 537.5,-657 537.5,-651 537.5,-651 537.5,-592 537.5,-592 537.5,-586 543.5,-580 549.5,-580 549.5,-580 636.5,-580 636.5,-580 642.5,-580 648.5,-586 648.5,-592 648.5,-592 648.5,-651 648.5,-651 648.5,-657 642.5,-663 636.5,-663\"/>\n<text text-anchor=\"start\" x=\"561\" y=\"-647.8\" font-family=\"Helvetica,sans-Serif\" font-size=\"14.00\">RPG ≤ 6.1</text>\n<text text-anchor=\"start\" x=\"545.5\" y=\"-632.8\" font-family=\"Helvetica,sans-Serif\" font-size=\"14.00\">entropy = 0.993</text>\n<text text-anchor=\"start\" x=\"552\" y=\"-617.8\" font-family=\"Helvetica,sans-Serif\" font-size=\"14.00\">samples = 20</text>\n<text text-anchor=\"start\" x=\"550\" y=\"-602.8\" font-family=\"Helvetica,sans-Serif\" font-size=\"14.00\">value = [11, 9]</text>\n<text text-anchor=\"start\" x=\"565.5\" y=\"-587.8\" font-family=\"Helvetica,sans-Serif\" font-size=\"14.00\">class = 1</text>\n</g>\n<!-- 14&#45;&gt;18 -->\n<g id=\"edge18\" class=\"edge\">\n<title>14-&gt;18</title>\n<path fill=\"none\" stroke=\"black\" d=\"M470.83,-702.8C489.22,-690.71 509.82,-677.18 528.78,-664.71\"/>\n<polygon fill=\"black\" stroke=\"black\" points=\"530.93,-667.49 537.37,-659.07 527.09,-661.64 530.93,-667.49\"/>\n</g>\n<!-- 16 -->\n<g id=\"node17\" class=\"node\">\n<title>16</title>\n<path fill=\"#399de5\" stroke=\"black\" d=\"M393,-536.5C393,-536.5 315,-536.5 315,-536.5 309,-536.5 303,-530.5 303,-524.5 303,-524.5 303,-480.5 303,-480.5 303,-474.5 309,-468.5 315,-468.5 315,-468.5 393,-468.5 393,-468.5 399,-468.5 405,-474.5 405,-480.5 405,-480.5 405,-524.5 405,-524.5 405,-530.5 399,-536.5 393,-536.5\"/>\n<text text-anchor=\"start\" x=\"314\" y=\"-521.3\" font-family=\"Helvetica,sans-Serif\" font-size=\"14.00\">entropy = 0.0</text>\n<text text-anchor=\"start\" x=\"313\" y=\"-506.3\" font-family=\"Helvetica,sans-Serif\" font-size=\"14.00\">samples = 58</text>\n<text text-anchor=\"start\" x=\"311\" y=\"-491.3\" font-family=\"Helvetica,sans-Serif\" font-size=\"14.00\">value = [0, 58]</text>\n<text text-anchor=\"start\" x=\"326.5\" y=\"-476.3\" font-family=\"Helvetica,sans-Serif\" font-size=\"14.00\">class = 2</text>\n</g>\n<!-- 15&#45;&gt;16 -->\n<g id=\"edge16\" class=\"edge\">\n<title>15-&gt;16</title>\n<path fill=\"none\" stroke=\"black\" d=\"M393.84,-579.91C388.08,-568.87 381.84,-556.9 376.04,-545.77\"/>\n<polygon fill=\"black\" stroke=\"black\" points=\"379.02,-543.92 371.29,-536.67 372.81,-547.15 379.02,-543.92\"/>\n</g>\n<!-- 17 -->\n<g id=\"node18\" class=\"node\">\n<title>17</title>\n<path fill=\"#e58139\" stroke=\"black\" d=\"M507,-536.5C507,-536.5 435,-536.5 435,-536.5 429,-536.5 423,-530.5 423,-524.5 423,-524.5 423,-480.5 423,-480.5 423,-474.5 429,-468.5 435,-468.5 435,-468.5 507,-468.5 507,-468.5 513,-468.5 519,-474.5 519,-480.5 519,-480.5 519,-524.5 519,-524.5 519,-530.5 513,-536.5 507,-536.5\"/>\n<text text-anchor=\"start\" x=\"431\" y=\"-521.3\" font-family=\"Helvetica,sans-Serif\" font-size=\"14.00\">entropy = 0.0</text>\n<text text-anchor=\"start\" x=\"433.5\" y=\"-506.3\" font-family=\"Helvetica,sans-Serif\" font-size=\"14.00\">samples = 1</text>\n<text text-anchor=\"start\" x=\"431.5\" y=\"-491.3\" font-family=\"Helvetica,sans-Serif\" font-size=\"14.00\">value = [1, 0]</text>\n<text text-anchor=\"start\" x=\"443.5\" y=\"-476.3\" font-family=\"Helvetica,sans-Serif\" font-size=\"14.00\">class = 1</text>\n</g>\n<!-- 15&#45;&gt;17 -->\n<g id=\"edge17\" class=\"edge\">\n<title>15-&gt;17</title>\n<path fill=\"none\" stroke=\"black\" d=\"M434.43,-579.91C439.71,-568.87 445.44,-556.9 450.77,-545.77\"/>\n<polygon fill=\"black\" stroke=\"black\" points=\"453.96,-547.2 455.13,-536.67 447.65,-544.18 453.96,-547.2\"/>\n</g>\n<!-- 19 -->\n<g id=\"node20\" class=\"node\">\n<title>19</title>\n<path fill=\"#e78c4b\" stroke=\"black\" d=\"M636.5,-544C636.5,-544 549.5,-544 549.5,-544 543.5,-544 537.5,-538 537.5,-532 537.5,-532 537.5,-473 537.5,-473 537.5,-467 543.5,-461 549.5,-461 549.5,-461 636.5,-461 636.5,-461 642.5,-461 648.5,-467 648.5,-473 648.5,-473 648.5,-532 648.5,-532 648.5,-538 642.5,-544 636.5,-544\"/>\n<text text-anchor=\"start\" x=\"552\" y=\"-528.8\" font-family=\"Helvetica,sans-Serif\" font-size=\"14.00\">FG% ≤ 514.5</text>\n<text text-anchor=\"start\" x=\"545.5\" y=\"-513.8\" font-family=\"Helvetica,sans-Serif\" font-size=\"14.00\">entropy = 0.414</text>\n<text text-anchor=\"start\" x=\"552\" y=\"-498.8\" font-family=\"Helvetica,sans-Serif\" font-size=\"14.00\">samples = 12</text>\n<text text-anchor=\"start\" x=\"550\" y=\"-483.8\" font-family=\"Helvetica,sans-Serif\" font-size=\"14.00\">value = [11, 1]</text>\n<text text-anchor=\"start\" x=\"565.5\" y=\"-468.8\" font-family=\"Helvetica,sans-Serif\" font-size=\"14.00\">class = 1</text>\n</g>\n<!-- 18&#45;&gt;19 -->\n<g id=\"edge19\" class=\"edge\">\n<title>18-&gt;19</title>\n<path fill=\"none\" stroke=\"black\" d=\"M593,-579.91C593,-571.65 593,-562.86 593,-554.3\"/>\n<polygon fill=\"black\" stroke=\"black\" points=\"596.5,-554.02 593,-544.02 589.5,-554.02 596.5,-554.02\"/>\n</g>\n<!-- 22 -->\n<g id=\"node23\" class=\"node\">\n<title>22</title>\n<path fill=\"#399de5\" stroke=\"black\" d=\"M751,-536.5C751,-536.5 679,-536.5 679,-536.5 673,-536.5 667,-530.5 667,-524.5 667,-524.5 667,-480.5 667,-480.5 667,-474.5 673,-468.5 679,-468.5 679,-468.5 751,-468.5 751,-468.5 757,-468.5 763,-474.5 763,-480.5 763,-480.5 763,-524.5 763,-524.5 763,-530.5 757,-536.5 751,-536.5\"/>\n<text text-anchor=\"start\" x=\"675\" y=\"-521.3\" font-family=\"Helvetica,sans-Serif\" font-size=\"14.00\">entropy = 0.0</text>\n<text text-anchor=\"start\" x=\"677.5\" y=\"-506.3\" font-family=\"Helvetica,sans-Serif\" font-size=\"14.00\">samples = 8</text>\n<text text-anchor=\"start\" x=\"675.5\" y=\"-491.3\" font-family=\"Helvetica,sans-Serif\" font-size=\"14.00\">value = [0, 8]</text>\n<text text-anchor=\"start\" x=\"687.5\" y=\"-476.3\" font-family=\"Helvetica,sans-Serif\" font-size=\"14.00\">class = 2</text>\n</g>\n<!-- 18&#45;&gt;22 -->\n<g id=\"edge22\" class=\"edge\">\n<title>18-&gt;22</title>\n<path fill=\"none\" stroke=\"black\" d=\"M635.33,-579.91C647.52,-568.21 660.82,-555.46 673,-543.78\"/>\n<polygon fill=\"black\" stroke=\"black\" points=\"675.62,-546.11 680.42,-536.67 670.78,-541.06 675.62,-546.11\"/>\n</g>\n<!-- 20 -->\n<g id=\"node21\" class=\"node\">\n<title>20</title>\n<path fill=\"#e58139\" stroke=\"black\" d=\"M573,-417.5C573,-417.5 495,-417.5 495,-417.5 489,-417.5 483,-411.5 483,-405.5 483,-405.5 483,-361.5 483,-361.5 483,-355.5 489,-349.5 495,-349.5 495,-349.5 573,-349.5 573,-349.5 579,-349.5 585,-355.5 585,-361.5 585,-361.5 585,-405.5 585,-405.5 585,-411.5 579,-417.5 573,-417.5\"/>\n<text text-anchor=\"start\" x=\"494\" y=\"-402.3\" font-family=\"Helvetica,sans-Serif\" font-size=\"14.00\">entropy = 0.0</text>\n<text text-anchor=\"start\" x=\"493\" y=\"-387.3\" font-family=\"Helvetica,sans-Serif\" font-size=\"14.00\">samples = 11</text>\n<text text-anchor=\"start\" x=\"491\" y=\"-372.3\" font-family=\"Helvetica,sans-Serif\" font-size=\"14.00\">value = [11, 0]</text>\n<text text-anchor=\"start\" x=\"506.5\" y=\"-357.3\" font-family=\"Helvetica,sans-Serif\" font-size=\"14.00\">class = 1</text>\n</g>\n<!-- 19&#45;&gt;20 -->\n<g id=\"edge20\" class=\"edge\">\n<title>19-&gt;20</title>\n<path fill=\"none\" stroke=\"black\" d=\"M572.53,-460.91C566.97,-449.87 560.93,-437.9 555.32,-426.77\"/>\n<polygon fill=\"black\" stroke=\"black\" points=\"558.35,-425.02 550.73,-417.67 552.1,-428.17 558.35,-425.02\"/>\n</g>\n<!-- 21 -->\n<g id=\"node22\" class=\"node\">\n<title>21</title>\n<path fill=\"#399de5\" stroke=\"black\" d=\"M687,-417.5C687,-417.5 615,-417.5 615,-417.5 609,-417.5 603,-411.5 603,-405.5 603,-405.5 603,-361.5 603,-361.5 603,-355.5 609,-349.5 615,-349.5 615,-349.5 687,-349.5 687,-349.5 693,-349.5 699,-355.5 699,-361.5 699,-361.5 699,-405.5 699,-405.5 699,-411.5 693,-417.5 687,-417.5\"/>\n<text text-anchor=\"start\" x=\"611\" y=\"-402.3\" font-family=\"Helvetica,sans-Serif\" font-size=\"14.00\">entropy = 0.0</text>\n<text text-anchor=\"start\" x=\"613.5\" y=\"-387.3\" font-family=\"Helvetica,sans-Serif\" font-size=\"14.00\">samples = 1</text>\n<text text-anchor=\"start\" x=\"611.5\" y=\"-372.3\" font-family=\"Helvetica,sans-Serif\" font-size=\"14.00\">value = [0, 1]</text>\n<text text-anchor=\"start\" x=\"623.5\" y=\"-357.3\" font-family=\"Helvetica,sans-Serif\" font-size=\"14.00\">class = 2</text>\n</g>\n<!-- 19&#45;&gt;21 -->\n<g id=\"edge21\" class=\"edge\">\n<title>19-&gt;21</title>\n<path fill=\"none\" stroke=\"black\" d=\"M613.12,-460.91C618.59,-449.87 624.53,-437.9 630.04,-426.77\"/>\n<polygon fill=\"black\" stroke=\"black\" points=\"633.25,-428.18 634.56,-417.67 626.98,-425.07 633.25,-428.18\"/>\n</g>\n</g>\n</svg>"
          },
          "metadata": {},
          "execution_count": 23
        }
      ]
    },
    {
      "cell_type": "code",
      "source": [
        "from sklearn.metrics import confusion_matrix, ConfusionMatrixDisplay\n",
        "from tabulate import tabulate\n",
        "prediction = classifier.predict(X_test)\n",
        "cnf_matrix = confusion_matrix(y_test, prediction)\n",
        "print(cnf_matrix)\n",
        "y_test"
      ],
      "metadata": {
        "id": "y3R_s0nM6BUo",
        "colab": {
          "base_uri": "https://localhost:8080/"
        },
        "outputId": "3d0a5d5b-f16e-4b48-c9ea-d6bcb5cafb91"
      },
      "execution_count": null,
      "outputs": [
        {
          "output_type": "stream",
          "name": "stdout",
          "text": [
            "[[55  4]\n",
            " [ 1 33]]\n"
          ]
        },
        {
          "output_type": "execute_result",
          "data": {
            "text/plain": [
              "array([1, 1, 2, 2, 1, 1, 1, 2, 2, 1, 1, 1, 1, 1, 2, 1, 1, 2, 2, 1, 2, 2,\n",
              "       1, 1, 1, 2, 2, 1, 2, 1, 2, 1, 1, 1, 1, 2, 1, 1, 2, 2, 1, 2, 1, 1,\n",
              "       2, 1, 1, 2, 1, 1, 2, 2, 1, 1, 1, 1, 2, 1, 2, 1, 1, 1, 1, 1, 2, 1,\n",
              "       1, 1, 1, 1, 1, 2, 1, 1, 2, 1, 2, 2, 1, 2, 2, 2, 2, 1, 1, 1, 1, 2,\n",
              "       2, 1, 1, 1, 1])"
            ]
          },
          "metadata": {},
          "execution_count": 44
        }
      ]
    },
    {
      "cell_type": "code",
      "source": [
        "from sklearn.metrics import roc_curve\n",
        "fpr, tpr, thresholds = roc_curve(y_test , prediction, pos_label=1)\n",
        "\n",
        "from sklearn.metrics import roc_auc_score\n",
        "roc_auc = roc_auc_score(y_test , prediction)\n",
        "print(\"AUC = \", roc_auc)\n",
        "\n",
        "plt.figure(figsize = (8,5))\n",
        "plt.plot(fpr, tpr, color='darkorange', lw=2, label='ROC curve (AUC = %0.5f)' % roc_auc)\n",
        "plt.plot([0, 1], [0, 1], color='navy', lw=2, linestyle='--')\n",
        "plt.xlim([0.0, 1.0])\n",
        "plt.ylim([0.0, 1.0])\n",
        "plt.xlabel('False Positive Rate')\n",
        "plt.ylabel('True Positive Rate')\n",
        "plt.title('Receiver Operating Characteristic curve')\n",
        "plt.legend(loc=\"lower right\")\n",
        "plt.show()"
      ],
      "metadata": {
        "colab": {
          "base_uri": "https://localhost:8080/",
          "height": 504
        },
        "id": "GQiNKHK9oFn9",
        "outputId": "59ff6bb9-01dc-440f-c551-c66bb7973638"
      },
      "execution_count": null,
      "outputs": [
        {
          "output_type": "stream",
          "name": "stdout",
          "text": [
            "AUC =  0.9513958125623131\n"
          ]
        },
        {
          "output_type": "display_data",
          "data": {
            "text/plain": [
              "<Figure size 800x500 with 1 Axes>"
            ],
            "image/png": "[encoded data removed]"
          },
          "metadata": {}
        }
      ]
    },
    {
      "cell_type": "code",
      "source": [
        "from sklearn import metrics\n",
        "\n",
        "print('Precision: {}'.format(metrics.precision_score(y_test, prediction)))\n",
        "print('Recall: {}'.format(metrics.recall_score(y_test, prediction)))\n",
        "print('F_1 score: {}'.format(metrics.f1_score(y_test, prediction)))"
      ],
      "metadata": {
        "id": "mOfOoR69a7aH",
        "colab": {
          "base_uri": "https://localhost:8080/"
        },
        "outputId": "743e0f8a-ab1a-43ba-ea5c-d2848a9839d3"
      },
      "execution_count": null,
      "outputs": [
        {
          "output_type": "stream",
          "name": "stdout",
          "text": [
            "Precision: 0.9821428571428571\n",
            "Recall: 0.9322033898305084\n",
            "F_1 score: 0.9565217391304348\n"
          ]
        }
      ]
    },
    {
      "cell_type": "code",
      "source": [
        "disp= ConfusionMatrixDisplay(confusion_matrix=cnf_matrix,display_labels=classes)\n",
        "disp.plot()"
      ],
      "metadata": {
        "id": "JnMO526YY16r",
        "colab": {
          "base_uri": "https://localhost:8080/",
          "height": 466
        },
        "outputId": "7e5a84d7-2199-4fa7-8bbc-f24a75ed17e8"
      },
      "execution_count": null,
      "outputs": [
        {
          "output_type": "execute_result",
          "data": {
            "text/plain": [
              "<sklearn.metrics._plot.confusion_matrix.ConfusionMatrixDisplay at 0x7af434b43490>"
            ]
          },
          "metadata": {},
          "execution_count": 26
        },
        {
          "output_type": "display_data",
          "data": {
            "text/plain": [
              "<Figure size 640x480 with 2 Axes>"
            ],
            "image/png": "[encoded data removed]"
          },
          "metadata": {}
        }
      ]
    },
    {
      "cell_type": "markdown",
      "source": [
        "# Bosque\n"
      ],
      "metadata": {
        "id": "_s2XTkme7ymS"
      }
    },
    {
      "cell_type": "code",
      "source": [
        "from sklearn.ensemble import RandomForestClassifier\n",
        "from sklearn.model_selection import GridSearchCV"
      ],
      "metadata": {
        "id": "GZoQMk3S_HYg"
      },
      "execution_count": null,
      "outputs": []
    },
    {
      "cell_type": "code",
      "source": [
        "rf = RandomForestClassifier(n_estimators=20, max_depth=5)\n",
        "\n",
        "rf.fit(X_train, y_train)"
      ],
      "metadata": {
        "id": "jfbBvJ0Y_LaB",
        "colab": {
          "base_uri": "https://localhost:8080/",
          "height": 74
        },
        "outputId": "0a97a4f3-0edf-486a-bf02-75dc18025359"
      },
      "execution_count": null,
      "outputs": [
        {
          "output_type": "execute_result",
          "data": {
            "text/plain": [
              "RandomForestClassifier(max_depth=5, n_estimators=20)"
            ],
            "text/html": [
              "<style>#sk-container-id-1 {color: black;background-color: white;}#sk-container-id-1 pre{padding: 0;}#sk-container-id-1 div.sk-toggleable {background-color: white;}#sk-container-id-1 label.sk-toggleable__label {cursor: pointer;display: block;width: 100%;margin-bottom: 0;padding: 0.3em;box-sizing: border-box;text-align: center;}#sk-container-id-1 label.sk-toggleable__label-arrow:before {content: \"▸\";float: left;margin-right: 0.25em;color: #696969;}#sk-container-id-1 label.sk-toggleable__label-arrow:hover:before {color: black;}#sk-container-id-1 div.sk-estimator:hover label.sk-toggleable__label-arrow:before {color: black;}#sk-container-id-1 div.sk-toggleable__content {max-height: 0;max-width: 0;overflow: hidden;text-align: left;background-color: #f0f8ff;}#sk-container-id-1 div.sk-toggleable__content pre {margin: 0.2em;color: black;border-radius: 0.25em;background-color: #f0f8ff;}#sk-container-id-1 input.sk-toggleable__control:checked~div.sk-toggleable__content {max-height: 200px;max-width: 100%;overflow: auto;}#sk-container-id-1 input.sk-toggleable__control:checked~label.sk-toggleable__label-arrow:before {content: \"▾\";}#sk-container-id-1 div.sk-estimator input.sk-toggleable__control:checked~label.sk-toggleable__label {background-color: #d4ebff;}#sk-container-id-1 div.sk-label input.sk-toggleable__control:checked~label.sk-toggleable__label {background-color: #d4ebff;}#sk-container-id-1 input.sk-hidden--visually {border: 0;clip: rect(1px 1px 1px 1px);clip: rect(1px, 1px, 1px, 1px);height: 1px;margin: -1px;overflow: hidden;padding: 0;position: absolute;width: 1px;}#sk-container-id-1 div.sk-estimator {font-family: monospace;background-color: #f0f8ff;border: 1px dotted black;border-radius: 0.25em;box-sizing: border-box;margin-bottom: 0.5em;}#sk-container-id-1 div.sk-estimator:hover {background-color: #d4ebff;}#sk-container-id-1 div.sk-parallel-item::after {content: \"\";width: 100%;border-bottom: 1px solid gray;flex-grow: 1;}#sk-container-id-1 div.sk-label:hover label.sk-toggleable__label {background-color: #d4ebff;}#sk-container-id-1 div.sk-serial::before {content: \"\";position: absolute;border-left: 1px solid gray;box-sizing: border-box;top: 0;bottom: 0;left: 50%;z-index: 0;}#sk-container-id-1 div.sk-serial {display: flex;flex-direction: column;align-items: center;background-color: white;padding-right: 0.2em;padding-left: 0.2em;position: relative;}#sk-container-id-1 div.sk-item {position: relative;z-index: 1;}#sk-container-id-1 div.sk-parallel {display: flex;align-items: stretch;justify-content: center;background-color: white;position: relative;}#sk-container-id-1 div.sk-item::before, #sk-container-id-1 div.sk-parallel-item::before {content: \"\";position: absolute;border-left: 1px solid gray;box-sizing: border-box;top: 0;bottom: 0;left: 50%;z-index: -1;}#sk-container-id-1 div.sk-parallel-item {display: flex;flex-direction: column;z-index: 1;position: relative;background-color: white;}#sk-container-id-1 div.sk-parallel-item:first-child::after {align-self: flex-end;width: 50%;}#sk-container-id-1 div.sk-parallel-item:last-child::after {align-self: flex-start;width: 50%;}#sk-container-id-1 div.sk-parallel-item:only-child::after {width: 0;}#sk-container-id-1 div.sk-dashed-wrapped {border: 1px dashed gray;margin: 0 0.4em 0.5em 0.4em;box-sizing: border-box;padding-bottom: 0.4em;background-color: white;}#sk-container-id-1 div.sk-label label {font-family: monospace;font-weight: bold;display: inline-block;line-height: 1.2em;}#sk-container-id-1 div.sk-label-container {text-align: center;}#sk-container-id-1 div.sk-container {/* jupyter's `normalize.less` sets `[hidden] { display: none; }` but bootstrap.min.css set `[hidden] { display: none !important; }` so we also need the `!important` here to be able to override the default hidden behavior on the sphinx rendered scikit-learn.org. See: https://github.com/scikit-learn/scikit-learn/issues/21755 */display: inline-block !important;position: relative;}#sk-container-id-1 div.sk-text-repr-fallback {display: none;}</style><div id=\"sk-container-id-1\" class=\"sk-top-container\"><div class=\"sk-text-repr-fallback\"><pre>RandomForestClassifier(max_depth=5, n_estimators=20)</pre><b>In a Jupyter environment, please rerun this cell to show the HTML representation or trust the notebook. <br />On GitHub, the HTML representation is unable to render, please try loading this page with nbviewer.org.</b></div><div class=\"sk-container\" hidden><div class=\"sk-item\"><div class=\"sk-estimator sk-toggleable\"><input class=\"sk-toggleable__control sk-hidden--visually\" id=\"sk-estimator-id-1\" type=\"checkbox\" checked><label for=\"sk-estimator-id-1\" class=\"sk-toggleable__label sk-toggleable__label-arrow\">RandomForestClassifier</label><div class=\"sk-toggleable__content\"><pre>RandomForestClassifier(max_depth=5, n_estimators=20)</pre></div></div></div></div></div>"
            ]
          },
          "metadata": {},
          "execution_count": 28
        }
      ]
    },
    {
      "cell_type": "code",
      "source": [
        "##pl.figure(figsize = (10, 6))\n",
        "##plot_decision_region(X_test, gen_pred_fun(rf))\n",
        "##plot_data(X_test, y_test)"
      ],
      "metadata": {
        "id": "GKBC44wz_M0a"
      },
      "execution_count": null,
      "outputs": []
    },
    {
      "cell_type": "code",
      "source": [
        "print('Error en entrenamiento: {}'.format(1-rf.score(X_train, y_train)))\n",
        "print('Error en prueba: {}'.format(1-rf.score(X_test, y_test)))"
      ],
      "metadata": {
        "id": "cQxbbacQ_Yjp",
        "colab": {
          "base_uri": "https://localhost:8080/"
        },
        "outputId": "ca483032-e0e4-497d-b6ac-30dc3ecb3c87"
      },
      "execution_count": null,
      "outputs": [
        {
          "output_type": "stream",
          "name": "stdout",
          "text": [
            "Error en entrenamiento: 0.0046511627906976605\n",
            "Error en prueba: 0.021505376344086002\n"
          ]
        }
      ]
    },
    {
      "cell_type": "code",
      "source": [
        "max_features_params = [np.round(10**-1 * i, decimals=1) for i in range(1, 11, 1)]\n",
        "param_grid = {'n_estimators': [2**i for i in range(2, 12, 1)], 'max_features': max_features_params}"
      ],
      "metadata": {
        "id": "wOexEMvI704z"
      },
      "execution_count": null,
      "outputs": []
    },
    {
      "cell_type": "code",
      "source": [
        "print('Número de árboles: {}'.format(param_grid['n_estimators']))"
      ],
      "metadata": {
        "id": "uLI_cXqS-qYn",
        "colab": {
          "base_uri": "https://localhost:8080/"
        },
        "outputId": "1474927e-f358-4f13-8e8d-9bfe9a1c012d"
      },
      "execution_count": null,
      "outputs": [
        {
          "output_type": "stream",
          "name": "stdout",
          "text": [
            "Número de árboles: [4, 8, 16, 32, 64, 128, 256, 512, 1024, 2048]\n"
          ]
        }
      ]
    },
    {
      "cell_type": "code",
      "source": [
        "print('Porcentaje de características a usar: {}'.format(param_grid['max_features']))"
      ],
      "metadata": {
        "id": "jg32-YyK-sqI",
        "colab": {
          "base_uri": "https://localhost:8080/"
        },
        "outputId": "8dae9337-a977-40c6-a1a2-f24afbc67f6c"
      },
      "execution_count": null,
      "outputs": [
        {
          "output_type": "stream",
          "name": "stdout",
          "text": [
            "Porcentaje de características a usar: [0.1, 0.2, 0.3, 0.4, 0.5, 0.6, 0.7, 0.8, 0.9, 1.0]\n"
          ]
        }
      ]
    },
    {
      "cell_type": "code",
      "source": [
        "start = time()\n",
        "clf = GridSearchCV(RandomForestClassifier(), param_grid=param_grid, verbose=1, n_jobs=-1, cv=5)\n",
        "clf.fit(X_train, y_train)\n",
        "print(\"GridSearchCV tomó {} segundos usando {} configuraciones\".format(time() - start,\n",
        "                                                                         len(clf.cv_results_['params'])))"
      ],
      "metadata": {
        "id": "l1fXEjY8_o5Z",
        "colab": {
          "base_uri": "https://localhost:8080/"
        },
        "outputId": "fdfef3c1-a208-43a2-b10f-8eaf730ac6fa"
      },
      "execution_count": null,
      "outputs": [
        {
          "output_type": "stream",
          "name": "stdout",
          "text": [
            "Fitting 5 folds for each of 100 candidates, totalling 500 fits\n",
            "GridSearchCV tomó 376.50953102111816 segundos usando 100 configuraciones\n"
          ]
        }
      ]
    },
    {
      "cell_type": "code",
      "source": [
        "scores = clf.cv_results_['mean_test_score'].reshape(len(param_grid['max_features']),\n",
        "                                                    len(param_grid['n_estimators']))"
      ],
      "metadata": {
        "id": "D3fXaBCiANmR"
      },
      "execution_count": null,
      "outputs": []
    },
    {
      "cell_type": "code",
      "source": [
        "scores"
      ],
      "metadata": {
        "id": "0F3wXAH9AQVS",
        "colab": {
          "base_uri": "https://localhost:8080/"
        },
        "outputId": "dca59ceb-d2b1-4dae-a073-903bff77af5a"
      },
      "execution_count": null,
      "outputs": [
        {
          "output_type": "execute_result",
          "data": {
            "text/plain": [
              "array([[0.91162791, 0.95348837, 0.96744186, 0.97674419, 0.97674419,\n",
              "        0.97674419, 0.97209302, 0.97674419, 0.97674419, 0.97674419],\n",
              "       [0.93023256, 0.95813953, 0.96744186, 0.97209302, 0.97674419,\n",
              "        0.97209302, 0.97209302, 0.97209302, 0.97209302, 0.97209302],\n",
              "       [0.93953488, 0.94883721, 0.95813953, 0.97209302, 0.97209302,\n",
              "        0.96744186, 0.97209302, 0.96744186, 0.97209302, 0.96744186],\n",
              "       [0.95348837, 0.95813953, 0.95813953, 0.96744186, 0.97209302,\n",
              "        0.97209302, 0.97209302, 0.97209302, 0.97209302, 0.97209302],\n",
              "       [0.93023256, 0.95348837, 0.96744186, 0.97209302, 0.97209302,\n",
              "        0.96744186, 0.97209302, 0.96744186, 0.96744186, 0.96744186],\n",
              "       [0.94883721, 0.96744186, 0.9627907 , 0.97209302, 0.96744186,\n",
              "        0.97209302, 0.9627907 , 0.9627907 , 0.96744186, 0.96744186],\n",
              "       [0.92093023, 0.95348837, 0.9627907 , 0.96744186, 0.96744186,\n",
              "        0.97209302, 0.96744186, 0.97209302, 0.96744186, 0.96744186],\n",
              "       [0.93023256, 0.95813953, 0.94883721, 0.95348837, 0.9627907 ,\n",
              "        0.96744186, 0.97209302, 0.96744186, 0.96744186, 0.97209302],\n",
              "       [0.9255814 , 0.96744186, 0.95813953, 0.97209302, 0.95813953,\n",
              "        0.96744186, 0.97674419, 0.96744186, 0.96744186, 0.97209302],\n",
              "       [0.94883721, 0.94418605, 0.93953488, 0.96744186, 0.95348837,\n",
              "        0.95813953, 0.95813953, 0.9627907 , 0.95813953, 0.96744186]])"
            ]
          },
          "metadata": {},
          "execution_count": 35
        }
      ]
    },
    {
      "cell_type": "markdown",
      "source": [
        "Se visualizan los parametros"
      ],
      "metadata": {
        "id": "ZmlBkq2DATfh"
      }
    },
    {
      "cell_type": "code",
      "source": [
        "pl.figure(figsize=(10, 6))\n",
        "pl.subplots_adjust(left=.2, right=0.95, bottom=0.15, top=0.95)\n",
        "pl.imshow(scores, interpolation='nearest', cmap=plt.cm.hot,\n",
        "           norm=MidpointNormalize(vmin=0.89, midpoint=0.97, vmax=1.))\n",
        "pl.xlabel('n_estimators')\n",
        "pl.ylabel('max_features')\n",
        "pl.colorbar()\n",
        "pl.xticks(np.arange(len(param_grid['n_estimators'])), param_grid['n_estimators'], rotation=45)\n",
        "pl.yticks(np.arange(len(param_grid['max_features'])), param_grid['max_features'])\n",
        "pl.title('Accuracy en validación')\n",
        "pl.show()"
      ],
      "metadata": {
        "id": "RhoJhd39AVxx",
        "colab": {
          "base_uri": "https://localhost:8080/",
          "height": 603
        },
        "outputId": "3a7fde49-37fc-42cf-a6ff-84622a3570db"
      },
      "execution_count": null,
      "outputs": [
        {
          "output_type": "display_data",
          "data": {
            "text/plain": [
              "<Figure size 1000x600 with 2 Axes>"
            ],
            "image/png": "[encoded data removed]"
          },
          "metadata": {}
        }
      ]
    },
    {
      "cell_type": "code",
      "source": [
        "clf.best_score_"
      ],
      "metadata": {
        "id": "x8P7WBXBCTh1",
        "colab": {
          "base_uri": "https://localhost:8080/"
        },
        "outputId": "7b7ed9ec-98c9-4aef-c072-c3fc19d41f6e"
      },
      "execution_count": null,
      "outputs": [
        {
          "output_type": "execute_result",
          "data": {
            "text/plain": [
              "0.9767441860465116"
            ]
          },
          "metadata": {},
          "execution_count": 37
        }
      ]
    },
    {
      "cell_type": "code",
      "source": [
        "clf.best_params_"
      ],
      "metadata": {
        "id": "ZW7mp085CMKN",
        "colab": {
          "base_uri": "https://localhost:8080/"
        },
        "outputId": "70666fe6-3b30-4a6b-da0f-c0b28412ac17"
      },
      "execution_count": null,
      "outputs": [
        {
          "output_type": "execute_result",
          "data": {
            "text/plain": [
              "{'max_features': 0.1, 'n_estimators': 32}"
            ]
          },
          "metadata": {},
          "execution_count": 38
        }
      ]
    },
    {
      "cell_type": "code",
      "source": [
        "clf.score(X_test, y_test)"
      ],
      "metadata": {
        "id": "BSdtNCX3CcgM",
        "colab": {
          "base_uri": "https://localhost:8080/"
        },
        "outputId": "11fc0c8d-6aed-488a-d63a-48b3f569b3b3"
      },
      "execution_count": null,
      "outputs": [
        {
          "output_type": "execute_result",
          "data": {
            "text/plain": [
              "0.967741935483871"
            ]
          },
          "metadata": {},
          "execution_count": 39
        }
      ]
    },
    {
      "cell_type": "code",
      "source": [
        "clf.score(X_train, y_train)"
      ],
      "metadata": {
        "id": "-2x5KQyxCjfL",
        "colab": {
          "base_uri": "https://localhost:8080/"
        },
        "outputId": "561cdb80-951b-4eff-c889-48191a9445c0"
      },
      "execution_count": null,
      "outputs": [
        {
          "output_type": "execute_result",
          "data": {
            "text/plain": [
              "1.0"
            ]
          },
          "metadata": {},
          "execution_count": 40
        }
      ]
    },
    {
      "cell_type": "code",
      "source": [
        "pred=clf.predict(X_test)\n",
        "cm=confusion_matrix(y_test,pred)\n",
        "cm\n",
        "cdm= ConfusionMatrixDisplay(confusion_matrix=cm,display_labels=classes)\n",
        "cdm.plot()"
      ],
      "metadata": {
        "id": "VPQyN2Syetr5",
        "colab": {
          "base_uri": "https://localhost:8080/",
          "height": 466
        },
        "outputId": "8739b6ef-1af8-483f-9d2a-ed8a507b8eb4"
      },
      "execution_count": null,
      "outputs": [
        {
          "output_type": "execute_result",
          "data": {
            "text/plain": [
              "<sklearn.metrics._plot.confusion_matrix.ConfusionMatrixDisplay at 0x7af3ef1e5960>"
            ]
          },
          "metadata": {},
          "execution_count": 41
        },
        {
          "output_type": "display_data",
          "data": {
            "text/plain": [
              "<Figure size 640x480 with 2 Axes>"
            ],
            "image/png": "[encoded data removed]"
          },
          "metadata": {}
        }
      ]
    }
  ]
}